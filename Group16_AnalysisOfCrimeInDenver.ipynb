{
  "nbformat": 4,
  "nbformat_minor": 0,
  "metadata": {
    "colab": {
      "provenance": []
    },
    "kernelspec": {
      "name": "python3",
      "display_name": "Python 3"
    },
    "language_info": {
      "name": "python"
    }
  },
  "cells": [
    {
      "cell_type": "code",
      "execution_count": null,
      "metadata": {
        "id": "JdokSZW0Kfrr"
      },
      "outputs": [],
      "source": [
        "import numpy as np\n",
        "import pandas as pd\n",
        "import sklearn\n",
        "import matplotlib.pyplot as plt\n",
        "from sklearn.metrics import accuracy_score , confusion_matrix\n",
        "from sklearn.metrics import classification_report\n",
        "from sklearn.metrics import plot_confusion_matrix\n",
        "from sklearn.tree import DecisionTreeClassifier\n",
        "from sklearn.model_selection import train_test_split\n",
        "\n",
        "# !pip install geoplot"
      ]
    },
    {
      "cell_type": "code",
      "source": [
        "from google.colab import drive\n",
        "drive.mount('/content/drive')"
      ],
      "metadata": {
        "colab": {
          "base_uri": "https://localhost:8080/"
        },
        "id": "D7vJ6T_miAKs",
        "outputId": "2343af8b-e959-4407-d605-2933d4c887e2"
      },
      "execution_count": null,
      "outputs": [
        {
          "output_type": "stream",
          "name": "stdout",
          "text": [
            "Mounted at /content/drive\n"
          ]
        }
      ]
    },
    {
      "cell_type": "markdown",
      "source": [
        "- - - - - - - - - - - -\n",
        "\n",
        "__Getting Data Loaded__\n",
        "\n",
        "NOTE: the original data has a line with encoding errors, so this was removed prior to loading it into this notebook.\n",
        "\n"
      ],
      "metadata": {
        "id": "dQP1_DpFK6sC"
      }
    },
    {
      "cell_type": "code",
      "source": [
        "df = pd.read_csv('/content/drive/MyDrive/Data_Mining_Project_Group16/crime_rem141.csv', encoding='utf_8', engine='python', index_col=0)\n",
        "df.head(10)"
      ],
      "metadata": {
        "colab": {
          "base_uri": "https://localhost:8080/",
          "height": 632
        },
        "id": "IpOWpjP0Vh1m",
        "outputId": "4b2a98d0-c2d4-4702-c46d-6a6fabc9493b"
      },
      "execution_count": null,
      "outputs": [
        {
          "output_type": "execute_result",
          "data": {
            "text/plain": [
              "                    offense_id  OFFENSE_CODE  OFFENSE_CODE_EXTENSION  \\\n",
              "incident_id                                                            \n",
              "20226000193  20226000193299900          2999                       0   \n",
              "20223319        20223319299900          2999                       0   \n",
              "20223093        20223093299900          2999                       0   \n",
              "20224000        20224000299900          2999                       0   \n",
              "20223956        20223956299900          2999                       0   \n",
              "20223903        20223903299900          2999                       0   \n",
              "20223899        20223899299900          2999                       0   \n",
              "20223888        20223888299900          2999                       0   \n",
              "20228085        20228085299900          2999                       0   \n",
              "20224563        20224563299900          2999                       0   \n",
              "\n",
              "                     OFFENSE_TYPE_ID OFFENSE_CATEGORY_ID  \\\n",
              "incident_id                                                \n",
              "20226000193  criminal-mischief-other     public-disorder   \n",
              "20223319     criminal-mischief-other     public-disorder   \n",
              "20223093     criminal-mischief-other     public-disorder   \n",
              "20224000     criminal-mischief-other     public-disorder   \n",
              "20223956     criminal-mischief-other     public-disorder   \n",
              "20223903     criminal-mischief-other     public-disorder   \n",
              "20223899     criminal-mischief-other     public-disorder   \n",
              "20223888     criminal-mischief-other     public-disorder   \n",
              "20228085     criminal-mischief-other     public-disorder   \n",
              "20224563     criminal-mischief-other     public-disorder   \n",
              "\n",
              "            FIRST_OCCURRENCE_DATE  LAST_OCCURRENCE_DATE         REPORTED_DATE  \\\n",
              "incident_id                                                                     \n",
              "20226000193  1/4/2022 11:30:00 AM  1/4/2022 12:00:00 PM   1/4/2022 8:36:00 PM   \n",
              "20223319      1/3/2022 6:45:00 AM                   NaN  1/3/2022 11:01:00 AM   \n",
              "20223093      1/3/2022 1:00:00 AM                   NaN   1/3/2022 6:11:00 AM   \n",
              "20224000      1/3/2022 7:47:00 PM                   NaN   1/3/2022 9:12:00 PM   \n",
              "20223956      1/3/2022 5:06:00 PM                   NaN   1/3/2022 8:31:00 PM   \n",
              "20223903      1/3/2022 4:40:00 PM                   NaN   1/3/2022 7:07:00 PM   \n",
              "20223899      1/3/2022 4:19:00 PM                   NaN   1/3/2022 4:21:00 PM   \n",
              "20223888      1/3/2022 4:15:00 PM                   NaN  1/3/2022 11:05:00 PM   \n",
              "20228085      1/5/2022 7:00:00 PM   1/6/2022 7:00:00 AM   1/6/2022 9:03:00 AM   \n",
              "20224563      1/4/2022 4:30:00 AM   1/4/2022 4:40:00 AM   1/4/2022 5:09:00 AM   \n",
              "\n",
              "                     INCIDENT_ADDRESS      GEO_X      GEO_Y     GEO_LON  \\\n",
              "incident_id                                                               \n",
              "20226000193           128 S CANOSA CT  3135366.0  1685410.0 -105.018825   \n",
              "20223319                  650 15TH ST  3142454.0  1696151.0 -104.993418   \n",
              "20223093             919 E COLFAX AVE  3147484.0  1694898.0 -104.975557   \n",
              "20224000           2345 W ALAMEDA AVE  3136478.0  1684414.0 -105.014892   \n",
              "20223956              7800 E SMITH RD  3169237.0  1705800.0 -104.897950   \n",
              "20223903             857 E COLFAX AVE  3147195.0  1695029.0 -104.976582   \n",
              "20223899         1501 S COLORADO BLVD  3157325.0  1676368.0 -104.940969   \n",
              "20223888            1133 N LINCOLN ST  3144418.0  1692850.0 -104.986500   \n",
              "20228085     2500 E CHERRY CREEK S DR  3152806.0  1685804.0 -104.956826   \n",
              "20224563            620 N SANTA FE DR  3141081.0  1689737.0 -104.998426   \n",
              "\n",
              "               GEO_LAT  DISTRICT_ID  PRECINCT_ID     NEIGHBORHOOD_ID  \\\n",
              "incident_id                                                            \n",
              "20226000193  39.714268          4.0        411.0            valverde   \n",
              "20223319     39.743649          6.0        611.0                 cbd   \n",
              "20223093     39.740130          6.0        621.0  north-capitol-hill   \n",
              "20224000     39.711518          4.0        411.0            valverde   \n",
              "20223956     39.769688          5.0        512.0        central-park   \n",
              "20223903     39.740495          6.0        621.0  north-capitol-hill   \n",
              "20223899     39.689101          3.0        312.0        cory-merrill   \n",
              "20223888     39.734556          6.0        623.0        capitol-hill   \n",
              "20228085     39.715080          3.0        311.0             belcaro   \n",
              "20224563     39.726062          1.0        123.0        lincoln-park   \n",
              "\n",
              "             IS_CRIME  IS_TRAFFIC  VICTIM_COUNT  \n",
              "incident_id                                      \n",
              "20226000193         1           0             1  \n",
              "20223319            1           0             1  \n",
              "20223093            1           0             1  \n",
              "20224000            1           0             1  \n",
              "20223956            1           0             1  \n",
              "20223903            1           0             1  \n",
              "20223899            1           0             1  \n",
              "20223888            1           0             1  \n",
              "20228085            1           0             1  \n",
              "20224563            1           0             1  "
            ],
            "text/html": [
              "\n",
              "  <div id=\"df-53a60914-ea60-40f6-a337-c66abe323511\">\n",
              "    <div class=\"colab-df-container\">\n",
              "      <div>\n",
              "<style scoped>\n",
              "    .dataframe tbody tr th:only-of-type {\n",
              "        vertical-align: middle;\n",
              "    }\n",
              "\n",
              "    .dataframe tbody tr th {\n",
              "        vertical-align: top;\n",
              "    }\n",
              "\n",
              "    .dataframe thead th {\n",
              "        text-align: right;\n",
              "    }\n",
              "</style>\n",
              "<table border=\"1\" class=\"dataframe\">\n",
              "  <thead>\n",
              "    <tr style=\"text-align: right;\">\n",
              "      <th></th>\n",
              "      <th>offense_id</th>\n",
              "      <th>OFFENSE_CODE</th>\n",
              "      <th>OFFENSE_CODE_EXTENSION</th>\n",
              "      <th>OFFENSE_TYPE_ID</th>\n",
              "      <th>OFFENSE_CATEGORY_ID</th>\n",
              "      <th>FIRST_OCCURRENCE_DATE</th>\n",
              "      <th>LAST_OCCURRENCE_DATE</th>\n",
              "      <th>REPORTED_DATE</th>\n",
              "      <th>INCIDENT_ADDRESS</th>\n",
              "      <th>GEO_X</th>\n",
              "      <th>GEO_Y</th>\n",
              "      <th>GEO_LON</th>\n",
              "      <th>GEO_LAT</th>\n",
              "      <th>DISTRICT_ID</th>\n",
              "      <th>PRECINCT_ID</th>\n",
              "      <th>NEIGHBORHOOD_ID</th>\n",
              "      <th>IS_CRIME</th>\n",
              "      <th>IS_TRAFFIC</th>\n",
              "      <th>VICTIM_COUNT</th>\n",
              "    </tr>\n",
              "    <tr>\n",
              "      <th>incident_id</th>\n",
              "      <th></th>\n",
              "      <th></th>\n",
              "      <th></th>\n",
              "      <th></th>\n",
              "      <th></th>\n",
              "      <th></th>\n",
              "      <th></th>\n",
              "      <th></th>\n",
              "      <th></th>\n",
              "      <th></th>\n",
              "      <th></th>\n",
              "      <th></th>\n",
              "      <th></th>\n",
              "      <th></th>\n",
              "      <th></th>\n",
              "      <th></th>\n",
              "      <th></th>\n",
              "      <th></th>\n",
              "      <th></th>\n",
              "    </tr>\n",
              "  </thead>\n",
              "  <tbody>\n",
              "    <tr>\n",
              "      <th>20226000193</th>\n",
              "      <td>20226000193299900</td>\n",
              "      <td>2999</td>\n",
              "      <td>0</td>\n",
              "      <td>criminal-mischief-other</td>\n",
              "      <td>public-disorder</td>\n",
              "      <td>1/4/2022 11:30:00 AM</td>\n",
              "      <td>1/4/2022 12:00:00 PM</td>\n",
              "      <td>1/4/2022 8:36:00 PM</td>\n",
              "      <td>128 S CANOSA CT</td>\n",
              "      <td>3135366.0</td>\n",
              "      <td>1685410.0</td>\n",
              "      <td>-105.018825</td>\n",
              "      <td>39.714268</td>\n",
              "      <td>4.0</td>\n",
              "      <td>411.0</td>\n",
              "      <td>valverde</td>\n",
              "      <td>1</td>\n",
              "      <td>0</td>\n",
              "      <td>1</td>\n",
              "    </tr>\n",
              "    <tr>\n",
              "      <th>20223319</th>\n",
              "      <td>20223319299900</td>\n",
              "      <td>2999</td>\n",
              "      <td>0</td>\n",
              "      <td>criminal-mischief-other</td>\n",
              "      <td>public-disorder</td>\n",
              "      <td>1/3/2022 6:45:00 AM</td>\n",
              "      <td>NaN</td>\n",
              "      <td>1/3/2022 11:01:00 AM</td>\n",
              "      <td>650 15TH ST</td>\n",
              "      <td>3142454.0</td>\n",
              "      <td>1696151.0</td>\n",
              "      <td>-104.993418</td>\n",
              "      <td>39.743649</td>\n",
              "      <td>6.0</td>\n",
              "      <td>611.0</td>\n",
              "      <td>cbd</td>\n",
              "      <td>1</td>\n",
              "      <td>0</td>\n",
              "      <td>1</td>\n",
              "    </tr>\n",
              "    <tr>\n",
              "      <th>20223093</th>\n",
              "      <td>20223093299900</td>\n",
              "      <td>2999</td>\n",
              "      <td>0</td>\n",
              "      <td>criminal-mischief-other</td>\n",
              "      <td>public-disorder</td>\n",
              "      <td>1/3/2022 1:00:00 AM</td>\n",
              "      <td>NaN</td>\n",
              "      <td>1/3/2022 6:11:00 AM</td>\n",
              "      <td>919 E COLFAX AVE</td>\n",
              "      <td>3147484.0</td>\n",
              "      <td>1694898.0</td>\n",
              "      <td>-104.975557</td>\n",
              "      <td>39.740130</td>\n",
              "      <td>6.0</td>\n",
              "      <td>621.0</td>\n",
              "      <td>north-capitol-hill</td>\n",
              "      <td>1</td>\n",
              "      <td>0</td>\n",
              "      <td>1</td>\n",
              "    </tr>\n",
              "    <tr>\n",
              "      <th>20224000</th>\n",
              "      <td>20224000299900</td>\n",
              "      <td>2999</td>\n",
              "      <td>0</td>\n",
              "      <td>criminal-mischief-other</td>\n",
              "      <td>public-disorder</td>\n",
              "      <td>1/3/2022 7:47:00 PM</td>\n",
              "      <td>NaN</td>\n",
              "      <td>1/3/2022 9:12:00 PM</td>\n",
              "      <td>2345 W ALAMEDA AVE</td>\n",
              "      <td>3136478.0</td>\n",
              "      <td>1684414.0</td>\n",
              "      <td>-105.014892</td>\n",
              "      <td>39.711518</td>\n",
              "      <td>4.0</td>\n",
              "      <td>411.0</td>\n",
              "      <td>valverde</td>\n",
              "      <td>1</td>\n",
              "      <td>0</td>\n",
              "      <td>1</td>\n",
              "    </tr>\n",
              "    <tr>\n",
              "      <th>20223956</th>\n",
              "      <td>20223956299900</td>\n",
              "      <td>2999</td>\n",
              "      <td>0</td>\n",
              "      <td>criminal-mischief-other</td>\n",
              "      <td>public-disorder</td>\n",
              "      <td>1/3/2022 5:06:00 PM</td>\n",
              "      <td>NaN</td>\n",
              "      <td>1/3/2022 8:31:00 PM</td>\n",
              "      <td>7800 E SMITH RD</td>\n",
              "      <td>3169237.0</td>\n",
              "      <td>1705800.0</td>\n",
              "      <td>-104.897950</td>\n",
              "      <td>39.769688</td>\n",
              "      <td>5.0</td>\n",
              "      <td>512.0</td>\n",
              "      <td>central-park</td>\n",
              "      <td>1</td>\n",
              "      <td>0</td>\n",
              "      <td>1</td>\n",
              "    </tr>\n",
              "    <tr>\n",
              "      <th>20223903</th>\n",
              "      <td>20223903299900</td>\n",
              "      <td>2999</td>\n",
              "      <td>0</td>\n",
              "      <td>criminal-mischief-other</td>\n",
              "      <td>public-disorder</td>\n",
              "      <td>1/3/2022 4:40:00 PM</td>\n",
              "      <td>NaN</td>\n",
              "      <td>1/3/2022 7:07:00 PM</td>\n",
              "      <td>857 E COLFAX AVE</td>\n",
              "      <td>3147195.0</td>\n",
              "      <td>1695029.0</td>\n",
              "      <td>-104.976582</td>\n",
              "      <td>39.740495</td>\n",
              "      <td>6.0</td>\n",
              "      <td>621.0</td>\n",
              "      <td>north-capitol-hill</td>\n",
              "      <td>1</td>\n",
              "      <td>0</td>\n",
              "      <td>1</td>\n",
              "    </tr>\n",
              "    <tr>\n",
              "      <th>20223899</th>\n",
              "      <td>20223899299900</td>\n",
              "      <td>2999</td>\n",
              "      <td>0</td>\n",
              "      <td>criminal-mischief-other</td>\n",
              "      <td>public-disorder</td>\n",
              "      <td>1/3/2022 4:19:00 PM</td>\n",
              "      <td>NaN</td>\n",
              "      <td>1/3/2022 4:21:00 PM</td>\n",
              "      <td>1501 S COLORADO BLVD</td>\n",
              "      <td>3157325.0</td>\n",
              "      <td>1676368.0</td>\n",
              "      <td>-104.940969</td>\n",
              "      <td>39.689101</td>\n",
              "      <td>3.0</td>\n",
              "      <td>312.0</td>\n",
              "      <td>cory-merrill</td>\n",
              "      <td>1</td>\n",
              "      <td>0</td>\n",
              "      <td>1</td>\n",
              "    </tr>\n",
              "    <tr>\n",
              "      <th>20223888</th>\n",
              "      <td>20223888299900</td>\n",
              "      <td>2999</td>\n",
              "      <td>0</td>\n",
              "      <td>criminal-mischief-other</td>\n",
              "      <td>public-disorder</td>\n",
              "      <td>1/3/2022 4:15:00 PM</td>\n",
              "      <td>NaN</td>\n",
              "      <td>1/3/2022 11:05:00 PM</td>\n",
              "      <td>1133 N LINCOLN ST</td>\n",
              "      <td>3144418.0</td>\n",
              "      <td>1692850.0</td>\n",
              "      <td>-104.986500</td>\n",
              "      <td>39.734556</td>\n",
              "      <td>6.0</td>\n",
              "      <td>623.0</td>\n",
              "      <td>capitol-hill</td>\n",
              "      <td>1</td>\n",
              "      <td>0</td>\n",
              "      <td>1</td>\n",
              "    </tr>\n",
              "    <tr>\n",
              "      <th>20228085</th>\n",
              "      <td>20228085299900</td>\n",
              "      <td>2999</td>\n",
              "      <td>0</td>\n",
              "      <td>criminal-mischief-other</td>\n",
              "      <td>public-disorder</td>\n",
              "      <td>1/5/2022 7:00:00 PM</td>\n",
              "      <td>1/6/2022 7:00:00 AM</td>\n",
              "      <td>1/6/2022 9:03:00 AM</td>\n",
              "      <td>2500 E CHERRY CREEK S DR</td>\n",
              "      <td>3152806.0</td>\n",
              "      <td>1685804.0</td>\n",
              "      <td>-104.956826</td>\n",
              "      <td>39.715080</td>\n",
              "      <td>3.0</td>\n",
              "      <td>311.0</td>\n",
              "      <td>belcaro</td>\n",
              "      <td>1</td>\n",
              "      <td>0</td>\n",
              "      <td>1</td>\n",
              "    </tr>\n",
              "    <tr>\n",
              "      <th>20224563</th>\n",
              "      <td>20224563299900</td>\n",
              "      <td>2999</td>\n",
              "      <td>0</td>\n",
              "      <td>criminal-mischief-other</td>\n",
              "      <td>public-disorder</td>\n",
              "      <td>1/4/2022 4:30:00 AM</td>\n",
              "      <td>1/4/2022 4:40:00 AM</td>\n",
              "      <td>1/4/2022 5:09:00 AM</td>\n",
              "      <td>620 N SANTA FE DR</td>\n",
              "      <td>3141081.0</td>\n",
              "      <td>1689737.0</td>\n",
              "      <td>-104.998426</td>\n",
              "      <td>39.726062</td>\n",
              "      <td>1.0</td>\n",
              "      <td>123.0</td>\n",
              "      <td>lincoln-park</td>\n",
              "      <td>1</td>\n",
              "      <td>0</td>\n",
              "      <td>1</td>\n",
              "    </tr>\n",
              "  </tbody>\n",
              "</table>\n",
              "</div>\n",
              "      <button class=\"colab-df-convert\" onclick=\"convertToInteractive('df-53a60914-ea60-40f6-a337-c66abe323511')\"\n",
              "              title=\"Convert this dataframe to an interactive table.\"\n",
              "              style=\"display:none;\">\n",
              "        \n",
              "  <svg xmlns=\"http://www.w3.org/2000/svg\" height=\"24px\"viewBox=\"0 0 24 24\"\n",
              "       width=\"24px\">\n",
              "    <path d=\"M0 0h24v24H0V0z\" fill=\"none\"/>\n",
              "    <path d=\"M18.56 5.44l.94 2.06.94-2.06 2.06-.94-2.06-.94-.94-2.06-.94 2.06-2.06.94zm-11 1L8.5 8.5l.94-2.06 2.06-.94-2.06-.94L8.5 2.5l-.94 2.06-2.06.94zm10 10l.94 2.06.94-2.06 2.06-.94-2.06-.94-.94-2.06-.94 2.06-2.06.94z\"/><path d=\"M17.41 7.96l-1.37-1.37c-.4-.4-.92-.59-1.43-.59-.52 0-1.04.2-1.43.59L10.3 9.45l-7.72 7.72c-.78.78-.78 2.05 0 2.83L4 21.41c.39.39.9.59 1.41.59.51 0 1.02-.2 1.41-.59l7.78-7.78 2.81-2.81c.8-.78.8-2.07 0-2.86zM5.41 20L4 18.59l7.72-7.72 1.47 1.35L5.41 20z\"/>\n",
              "  </svg>\n",
              "      </button>\n",
              "      \n",
              "  <style>\n",
              "    .colab-df-container {\n",
              "      display:flex;\n",
              "      flex-wrap:wrap;\n",
              "      gap: 12px;\n",
              "    }\n",
              "\n",
              "    .colab-df-convert {\n",
              "      background-color: #E8F0FE;\n",
              "      border: none;\n",
              "      border-radius: 50%;\n",
              "      cursor: pointer;\n",
              "      display: none;\n",
              "      fill: #1967D2;\n",
              "      height: 32px;\n",
              "      padding: 0 0 0 0;\n",
              "      width: 32px;\n",
              "    }\n",
              "\n",
              "    .colab-df-convert:hover {\n",
              "      background-color: #E2EBFA;\n",
              "      box-shadow: 0px 1px 2px rgba(60, 64, 67, 0.3), 0px 1px 3px 1px rgba(60, 64, 67, 0.15);\n",
              "      fill: #174EA6;\n",
              "    }\n",
              "\n",
              "    [theme=dark] .colab-df-convert {\n",
              "      background-color: #3B4455;\n",
              "      fill: #D2E3FC;\n",
              "    }\n",
              "\n",
              "    [theme=dark] .colab-df-convert:hover {\n",
              "      background-color: #434B5C;\n",
              "      box-shadow: 0px 1px 3px 1px rgba(0, 0, 0, 0.15);\n",
              "      filter: drop-shadow(0px 1px 2px rgba(0, 0, 0, 0.3));\n",
              "      fill: #FFFFFF;\n",
              "    }\n",
              "  </style>\n",
              "\n",
              "      <script>\n",
              "        const buttonEl =\n",
              "          document.querySelector('#df-53a60914-ea60-40f6-a337-c66abe323511 button.colab-df-convert');\n",
              "        buttonEl.style.display =\n",
              "          google.colab.kernel.accessAllowed ? 'block' : 'none';\n",
              "\n",
              "        async function convertToInteractive(key) {\n",
              "          const element = document.querySelector('#df-53a60914-ea60-40f6-a337-c66abe323511');\n",
              "          const dataTable =\n",
              "            await google.colab.kernel.invokeFunction('convertToInteractive',\n",
              "                                                     [key], {});\n",
              "          if (!dataTable) return;\n",
              "\n",
              "          const docLinkHtml = 'Like what you see? Visit the ' +\n",
              "            '<a target=\"_blank\" href=https://colab.research.google.com/notebooks/data_table.ipynb>data table notebook</a>'\n",
              "            + ' to learn more about interactive tables.';\n",
              "          element.innerHTML = '';\n",
              "          dataTable['output_type'] = 'display_data';\n",
              "          await google.colab.output.renderOutput(dataTable, element);\n",
              "          const docLink = document.createElement('div');\n",
              "          docLink.innerHTML = docLinkHtml;\n",
              "          element.appendChild(docLink);\n",
              "        }\n",
              "      </script>\n",
              "    </div>\n",
              "  </div>\n",
              "  "
            ]
          },
          "metadata": {},
          "execution_count": 3
        }
      ]
    },
    {
      "cell_type": "markdown",
      "source": [
        "---\n",
        "\n",
        "**Cleaning and Processing Data**\n",
        "\n",
        "- remove ID columns\n",
        "- keep only \"FIRST_OCCURENCE_DATE\"\n",
        "- split date and time into separate columns"
      ],
      "metadata": {
        "id": "MLgIHryAFISD"
      }
    },
    {
      "cell_type": "code",
      "source": [
        "# columns to keep:\n",
        "# 'incident_id', 'OFFENSE_TYPE_ID', 'OFFENSE_CATEGORY_ID', 'FIRST_OCCURRENCE_DATE', 'DISTRICT_ID',\t'PRECINCT_ID', 'IS_CRIME',\t'IS_TRAFFIC',\t'VICTIM_COUNT'\n",
        "#   _, 3,4,13,14,16,17,18\n",
        "\n",
        "dateTimeSeries = pd.Series(data=df.iloc[:,5])\n",
        "\n",
        "monthList = []\n",
        "yearList = []\n",
        "hourList = []\n",
        "\n",
        "for date in dateTimeSeries:\n",
        "    splt = date.split()\n",
        "    if len(splt) > 3:\n",
        "        print(\"Somethin weird\")\n",
        "    dsplt = splt[0].split('/')    # should be [month,day,year]\n",
        "    tsplt = splt[1].split(':')      # [hour,minute,second]\n",
        "    monthList.append(int(dsplt[0]))\n",
        "    yearList.append(int(dsplt[2]) - 2017)  # normalize to 0,1,2,3,4,5 instead of full year\n",
        "    if splt[2] == 'AM':\n",
        "        hourList.append(int(tsplt[0]))\n",
        "    else:\n",
        "        hourList.append(int(tsplt[0]) + 12)\n",
        "\n",
        "subset = df.iloc[:,[3,4,13,14,16,17,18]]      # [['incident_id', 'OFFENSE_TYPE_ID', 'OFFENSE_CATEGORY_ID', 'DISTRICT_ID', 'PRECINCT_ID', 'IS_CRIME', 'IS_TRAFFIC', 'VICTIM_COUNT']]\n",
        "# subset.shape        # = (376811, 7)\n",
        "\n",
        "subset = subset.assign(Month = pd.Series(data=monthList).values)\n",
        "subset = subset.assign(Year = pd.Series(data=yearList).values)\n",
        "subset = subset.assign(Hour = pd.Series(data=hourList).values)\n",
        "\n",
        "subset\n"
      ],
      "metadata": {
        "id": "CD_m5fF7HoM5",
        "colab": {
          "base_uri": "https://localhost:8080/",
          "height": 675
        },
        "outputId": "51583563-a468-4991-d29f-e6f6cc6457d1"
      },
      "execution_count": null,
      "outputs": [
        {
          "output_type": "execute_result",
          "data": {
            "text/plain": [
              "                         OFFENSE_TYPE_ID OFFENSE_CATEGORY_ID  DISTRICT_ID  \\\n",
              "incident_id                                                                 \n",
              "20226000193      criminal-mischief-other     public-disorder          4.0   \n",
              "20223319         criminal-mischief-other     public-disorder          6.0   \n",
              "20223093         criminal-mischief-other     public-disorder          6.0   \n",
              "20224000         criminal-mischief-other     public-disorder          4.0   \n",
              "20223956         criminal-mischief-other     public-disorder          5.0   \n",
              "...                                  ...                 ...          ...   \n",
              "20228028363   theft-fail-return-rent-veh  white-collar-crime          7.0   \n",
              "2022330642            fraud-by-telephone  white-collar-crime          5.0   \n",
              "2022328815      fraud-by-use-of-computer  white-collar-crime          3.0   \n",
              "2022330886      fraud-by-use-of-computer  white-collar-crime          3.0   \n",
              "2022330863   outside-steal-recovered-veh    all-other-crimes          2.0   \n",
              "\n",
              "             PRECINCT_ID  IS_CRIME  IS_TRAFFIC  VICTIM_COUNT  Month  Year  \\\n",
              "incident_id                                                                 \n",
              "20226000193        411.0         1           0             1      1     5   \n",
              "20223319           611.0         1           0             1      1     5   \n",
              "20223093           621.0         1           0             1      1     5   \n",
              "20224000           411.0         1           0             1      1     5   \n",
              "20223956           512.0         1           0             1      1     5   \n",
              "...                  ...       ...         ...           ...    ...   ...   \n",
              "20228028363        759.0         1           0             1      5     5   \n",
              "2022330642         522.0         1           0             1      6     5   \n",
              "2022328815         313.0         1           0             1      6     5   \n",
              "2022330886         311.0         1           0             1      6     5   \n",
              "2022330863         223.0         1           0             1      6     5   \n",
              "\n",
              "             Hour  \n",
              "incident_id        \n",
              "20226000193    11  \n",
              "20223319        6  \n",
              "20223093        1  \n",
              "20224000       19  \n",
              "20223956       17  \n",
              "...           ...  \n",
              "20228028363    24  \n",
              "2022330642     14  \n",
              "2022328815     18  \n",
              "2022330886     10  \n",
              "2022330863     10  \n",
              "\n",
              "[376811 rows x 10 columns]"
            ],
            "text/html": [
              "\n",
              "  <div id=\"df-fd17e5d0-4e81-4901-bf7e-024a927200e2\">\n",
              "    <div class=\"colab-df-container\">\n",
              "      <div>\n",
              "<style scoped>\n",
              "    .dataframe tbody tr th:only-of-type {\n",
              "        vertical-align: middle;\n",
              "    }\n",
              "\n",
              "    .dataframe tbody tr th {\n",
              "        vertical-align: top;\n",
              "    }\n",
              "\n",
              "    .dataframe thead th {\n",
              "        text-align: right;\n",
              "    }\n",
              "</style>\n",
              "<table border=\"1\" class=\"dataframe\">\n",
              "  <thead>\n",
              "    <tr style=\"text-align: right;\">\n",
              "      <th></th>\n",
              "      <th>OFFENSE_TYPE_ID</th>\n",
              "      <th>OFFENSE_CATEGORY_ID</th>\n",
              "      <th>DISTRICT_ID</th>\n",
              "      <th>PRECINCT_ID</th>\n",
              "      <th>IS_CRIME</th>\n",
              "      <th>IS_TRAFFIC</th>\n",
              "      <th>VICTIM_COUNT</th>\n",
              "      <th>Month</th>\n",
              "      <th>Year</th>\n",
              "      <th>Hour</th>\n",
              "    </tr>\n",
              "    <tr>\n",
              "      <th>incident_id</th>\n",
              "      <th></th>\n",
              "      <th></th>\n",
              "      <th></th>\n",
              "      <th></th>\n",
              "      <th></th>\n",
              "      <th></th>\n",
              "      <th></th>\n",
              "      <th></th>\n",
              "      <th></th>\n",
              "      <th></th>\n",
              "    </tr>\n",
              "  </thead>\n",
              "  <tbody>\n",
              "    <tr>\n",
              "      <th>20226000193</th>\n",
              "      <td>criminal-mischief-other</td>\n",
              "      <td>public-disorder</td>\n",
              "      <td>4.0</td>\n",
              "      <td>411.0</td>\n",
              "      <td>1</td>\n",
              "      <td>0</td>\n",
              "      <td>1</td>\n",
              "      <td>1</td>\n",
              "      <td>5</td>\n",
              "      <td>11</td>\n",
              "    </tr>\n",
              "    <tr>\n",
              "      <th>20223319</th>\n",
              "      <td>criminal-mischief-other</td>\n",
              "      <td>public-disorder</td>\n",
              "      <td>6.0</td>\n",
              "      <td>611.0</td>\n",
              "      <td>1</td>\n",
              "      <td>0</td>\n",
              "      <td>1</td>\n",
              "      <td>1</td>\n",
              "      <td>5</td>\n",
              "      <td>6</td>\n",
              "    </tr>\n",
              "    <tr>\n",
              "      <th>20223093</th>\n",
              "      <td>criminal-mischief-other</td>\n",
              "      <td>public-disorder</td>\n",
              "      <td>6.0</td>\n",
              "      <td>621.0</td>\n",
              "      <td>1</td>\n",
              "      <td>0</td>\n",
              "      <td>1</td>\n",
              "      <td>1</td>\n",
              "      <td>5</td>\n",
              "      <td>1</td>\n",
              "    </tr>\n",
              "    <tr>\n",
              "      <th>20224000</th>\n",
              "      <td>criminal-mischief-other</td>\n",
              "      <td>public-disorder</td>\n",
              "      <td>4.0</td>\n",
              "      <td>411.0</td>\n",
              "      <td>1</td>\n",
              "      <td>0</td>\n",
              "      <td>1</td>\n",
              "      <td>1</td>\n",
              "      <td>5</td>\n",
              "      <td>19</td>\n",
              "    </tr>\n",
              "    <tr>\n",
              "      <th>20223956</th>\n",
              "      <td>criminal-mischief-other</td>\n",
              "      <td>public-disorder</td>\n",
              "      <td>5.0</td>\n",
              "      <td>512.0</td>\n",
              "      <td>1</td>\n",
              "      <td>0</td>\n",
              "      <td>1</td>\n",
              "      <td>1</td>\n",
              "      <td>5</td>\n",
              "      <td>17</td>\n",
              "    </tr>\n",
              "    <tr>\n",
              "      <th>...</th>\n",
              "      <td>...</td>\n",
              "      <td>...</td>\n",
              "      <td>...</td>\n",
              "      <td>...</td>\n",
              "      <td>...</td>\n",
              "      <td>...</td>\n",
              "      <td>...</td>\n",
              "      <td>...</td>\n",
              "      <td>...</td>\n",
              "      <td>...</td>\n",
              "    </tr>\n",
              "    <tr>\n",
              "      <th>20228028363</th>\n",
              "      <td>theft-fail-return-rent-veh</td>\n",
              "      <td>white-collar-crime</td>\n",
              "      <td>7.0</td>\n",
              "      <td>759.0</td>\n",
              "      <td>1</td>\n",
              "      <td>0</td>\n",
              "      <td>1</td>\n",
              "      <td>5</td>\n",
              "      <td>5</td>\n",
              "      <td>24</td>\n",
              "    </tr>\n",
              "    <tr>\n",
              "      <th>2022330642</th>\n",
              "      <td>fraud-by-telephone</td>\n",
              "      <td>white-collar-crime</td>\n",
              "      <td>5.0</td>\n",
              "      <td>522.0</td>\n",
              "      <td>1</td>\n",
              "      <td>0</td>\n",
              "      <td>1</td>\n",
              "      <td>6</td>\n",
              "      <td>5</td>\n",
              "      <td>14</td>\n",
              "    </tr>\n",
              "    <tr>\n",
              "      <th>2022328815</th>\n",
              "      <td>fraud-by-use-of-computer</td>\n",
              "      <td>white-collar-crime</td>\n",
              "      <td>3.0</td>\n",
              "      <td>313.0</td>\n",
              "      <td>1</td>\n",
              "      <td>0</td>\n",
              "      <td>1</td>\n",
              "      <td>6</td>\n",
              "      <td>5</td>\n",
              "      <td>18</td>\n",
              "    </tr>\n",
              "    <tr>\n",
              "      <th>2022330886</th>\n",
              "      <td>fraud-by-use-of-computer</td>\n",
              "      <td>white-collar-crime</td>\n",
              "      <td>3.0</td>\n",
              "      <td>311.0</td>\n",
              "      <td>1</td>\n",
              "      <td>0</td>\n",
              "      <td>1</td>\n",
              "      <td>6</td>\n",
              "      <td>5</td>\n",
              "      <td>10</td>\n",
              "    </tr>\n",
              "    <tr>\n",
              "      <th>2022330863</th>\n",
              "      <td>outside-steal-recovered-veh</td>\n",
              "      <td>all-other-crimes</td>\n",
              "      <td>2.0</td>\n",
              "      <td>223.0</td>\n",
              "      <td>1</td>\n",
              "      <td>0</td>\n",
              "      <td>1</td>\n",
              "      <td>6</td>\n",
              "      <td>5</td>\n",
              "      <td>10</td>\n",
              "    </tr>\n",
              "  </tbody>\n",
              "</table>\n",
              "<p>376811 rows × 10 columns</p>\n",
              "</div>\n",
              "      <button class=\"colab-df-convert\" onclick=\"convertToInteractive('df-fd17e5d0-4e81-4901-bf7e-024a927200e2')\"\n",
              "              title=\"Convert this dataframe to an interactive table.\"\n",
              "              style=\"display:none;\">\n",
              "        \n",
              "  <svg xmlns=\"http://www.w3.org/2000/svg\" height=\"24px\"viewBox=\"0 0 24 24\"\n",
              "       width=\"24px\">\n",
              "    <path d=\"M0 0h24v24H0V0z\" fill=\"none\"/>\n",
              "    <path d=\"M18.56 5.44l.94 2.06.94-2.06 2.06-.94-2.06-.94-.94-2.06-.94 2.06-2.06.94zm-11 1L8.5 8.5l.94-2.06 2.06-.94-2.06-.94L8.5 2.5l-.94 2.06-2.06.94zm10 10l.94 2.06.94-2.06 2.06-.94-2.06-.94-.94-2.06-.94 2.06-2.06.94z\"/><path d=\"M17.41 7.96l-1.37-1.37c-.4-.4-.92-.59-1.43-.59-.52 0-1.04.2-1.43.59L10.3 9.45l-7.72 7.72c-.78.78-.78 2.05 0 2.83L4 21.41c.39.39.9.59 1.41.59.51 0 1.02-.2 1.41-.59l7.78-7.78 2.81-2.81c.8-.78.8-2.07 0-2.86zM5.41 20L4 18.59l7.72-7.72 1.47 1.35L5.41 20z\"/>\n",
              "  </svg>\n",
              "      </button>\n",
              "      \n",
              "  <style>\n",
              "    .colab-df-container {\n",
              "      display:flex;\n",
              "      flex-wrap:wrap;\n",
              "      gap: 12px;\n",
              "    }\n",
              "\n",
              "    .colab-df-convert {\n",
              "      background-color: #E8F0FE;\n",
              "      border: none;\n",
              "      border-radius: 50%;\n",
              "      cursor: pointer;\n",
              "      display: none;\n",
              "      fill: #1967D2;\n",
              "      height: 32px;\n",
              "      padding: 0 0 0 0;\n",
              "      width: 32px;\n",
              "    }\n",
              "\n",
              "    .colab-df-convert:hover {\n",
              "      background-color: #E2EBFA;\n",
              "      box-shadow: 0px 1px 2px rgba(60, 64, 67, 0.3), 0px 1px 3px 1px rgba(60, 64, 67, 0.15);\n",
              "      fill: #174EA6;\n",
              "    }\n",
              "\n",
              "    [theme=dark] .colab-df-convert {\n",
              "      background-color: #3B4455;\n",
              "      fill: #D2E3FC;\n",
              "    }\n",
              "\n",
              "    [theme=dark] .colab-df-convert:hover {\n",
              "      background-color: #434B5C;\n",
              "      box-shadow: 0px 1px 3px 1px rgba(0, 0, 0, 0.15);\n",
              "      filter: drop-shadow(0px 1px 2px rgba(0, 0, 0, 0.3));\n",
              "      fill: #FFFFFF;\n",
              "    }\n",
              "  </style>\n",
              "\n",
              "      <script>\n",
              "        const buttonEl =\n",
              "          document.querySelector('#df-fd17e5d0-4e81-4901-bf7e-024a927200e2 button.colab-df-convert');\n",
              "        buttonEl.style.display =\n",
              "          google.colab.kernel.accessAllowed ? 'block' : 'none';\n",
              "\n",
              "        async function convertToInteractive(key) {\n",
              "          const element = document.querySelector('#df-fd17e5d0-4e81-4901-bf7e-024a927200e2');\n",
              "          const dataTable =\n",
              "            await google.colab.kernel.invokeFunction('convertToInteractive',\n",
              "                                                     [key], {});\n",
              "          if (!dataTable) return;\n",
              "\n",
              "          const docLinkHtml = 'Like what you see? Visit the ' +\n",
              "            '<a target=\"_blank\" href=https://colab.research.google.com/notebooks/data_table.ipynb>data table notebook</a>'\n",
              "            + ' to learn more about interactive tables.';\n",
              "          element.innerHTML = '';\n",
              "          dataTable['output_type'] = 'display_data';\n",
              "          await google.colab.output.renderOutput(dataTable, element);\n",
              "          const docLink = document.createElement('div');\n",
              "          docLink.innerHTML = docLinkHtml;\n",
              "          element.appendChild(docLink);\n",
              "        }\n",
              "      </script>\n",
              "    </div>\n",
              "  </div>\n",
              "  "
            ]
          },
          "metadata": {},
          "execution_count": 4
        }
      ]
    },
    {
      "cell_type": "markdown",
      "source": [
        "---\n",
        "\n",
        "***Plots to gain insight***"
      ],
      "metadata": {
        "id": "Zt6bhqVrUO6Z"
      }
    },
    {
      "cell_type": "code",
      "source": [
        "#describeing the statistical characteristics of numerical attributes\n",
        "subset.describe()"
      ],
      "metadata": {
        "colab": {
          "base_uri": "https://localhost:8080/",
          "height": 364
        },
        "id": "w4MY7hWixd3X",
        "outputId": "c6b9e7f1-ca46-45b3-f02a-9875f29ac95f"
      },
      "execution_count": null,
      "outputs": [
        {
          "output_type": "execute_result",
          "data": {
            "text/plain": [
              "         DISTRICT_ID    PRECINCT_ID  IS_CRIME  IS_TRAFFIC   VICTIM_COUNT  \\\n",
              "count  376227.000000  376227.000000  376811.0    376811.0  376811.000000   \n",
              "mean        3.653199     383.203882       1.0         0.0       1.020156   \n",
              "std         1.790020     179.980649       0.0         0.0       0.226457   \n",
              "min         1.000000     111.000000       1.0         0.0       1.000000   \n",
              "25%         2.000000     222.000000       1.0         0.0       1.000000   \n",
              "50%         3.000000     324.000000       1.0         0.0       1.000000   \n",
              "75%         5.000000     523.000000       1.0         0.0       1.000000   \n",
              "max         7.000000     759.000000       1.0         0.0      32.000000   \n",
              "\n",
              "               Month           Year           Hour  \n",
              "count  376811.000000  376811.000000  376811.000000  \n",
              "mean        6.278930       2.408263      14.334337  \n",
              "std         3.376172       1.627524       6.525955  \n",
              "min         1.000000       0.000000       1.000000  \n",
              "25%         3.000000       1.000000      10.000000  \n",
              "50%         6.000000       2.000000      15.000000  \n",
              "75%         9.000000       4.000000      20.000000  \n",
              "max        12.000000       5.000000      24.000000  "
            ],
            "text/html": [
              "\n",
              "  <div id=\"df-c6d4aa98-f12b-4033-a32c-0b400513ec0a\">\n",
              "    <div class=\"colab-df-container\">\n",
              "      <div>\n",
              "<style scoped>\n",
              "    .dataframe tbody tr th:only-of-type {\n",
              "        vertical-align: middle;\n",
              "    }\n",
              "\n",
              "    .dataframe tbody tr th {\n",
              "        vertical-align: top;\n",
              "    }\n",
              "\n",
              "    .dataframe thead th {\n",
              "        text-align: right;\n",
              "    }\n",
              "</style>\n",
              "<table border=\"1\" class=\"dataframe\">\n",
              "  <thead>\n",
              "    <tr style=\"text-align: right;\">\n",
              "      <th></th>\n",
              "      <th>DISTRICT_ID</th>\n",
              "      <th>PRECINCT_ID</th>\n",
              "      <th>IS_CRIME</th>\n",
              "      <th>IS_TRAFFIC</th>\n",
              "      <th>VICTIM_COUNT</th>\n",
              "      <th>Month</th>\n",
              "      <th>Year</th>\n",
              "      <th>Hour</th>\n",
              "    </tr>\n",
              "  </thead>\n",
              "  <tbody>\n",
              "    <tr>\n",
              "      <th>count</th>\n",
              "      <td>376227.000000</td>\n",
              "      <td>376227.000000</td>\n",
              "      <td>376811.0</td>\n",
              "      <td>376811.0</td>\n",
              "      <td>376811.000000</td>\n",
              "      <td>376811.000000</td>\n",
              "      <td>376811.000000</td>\n",
              "      <td>376811.000000</td>\n",
              "    </tr>\n",
              "    <tr>\n",
              "      <th>mean</th>\n",
              "      <td>3.653199</td>\n",
              "      <td>383.203882</td>\n",
              "      <td>1.0</td>\n",
              "      <td>0.0</td>\n",
              "      <td>1.020156</td>\n",
              "      <td>6.278930</td>\n",
              "      <td>2.408263</td>\n",
              "      <td>14.334337</td>\n",
              "    </tr>\n",
              "    <tr>\n",
              "      <th>std</th>\n",
              "      <td>1.790020</td>\n",
              "      <td>179.980649</td>\n",
              "      <td>0.0</td>\n",
              "      <td>0.0</td>\n",
              "      <td>0.226457</td>\n",
              "      <td>3.376172</td>\n",
              "      <td>1.627524</td>\n",
              "      <td>6.525955</td>\n",
              "    </tr>\n",
              "    <tr>\n",
              "      <th>min</th>\n",
              "      <td>1.000000</td>\n",
              "      <td>111.000000</td>\n",
              "      <td>1.0</td>\n",
              "      <td>0.0</td>\n",
              "      <td>1.000000</td>\n",
              "      <td>1.000000</td>\n",
              "      <td>0.000000</td>\n",
              "      <td>1.000000</td>\n",
              "    </tr>\n",
              "    <tr>\n",
              "      <th>25%</th>\n",
              "      <td>2.000000</td>\n",
              "      <td>222.000000</td>\n",
              "      <td>1.0</td>\n",
              "      <td>0.0</td>\n",
              "      <td>1.000000</td>\n",
              "      <td>3.000000</td>\n",
              "      <td>1.000000</td>\n",
              "      <td>10.000000</td>\n",
              "    </tr>\n",
              "    <tr>\n",
              "      <th>50%</th>\n",
              "      <td>3.000000</td>\n",
              "      <td>324.000000</td>\n",
              "      <td>1.0</td>\n",
              "      <td>0.0</td>\n",
              "      <td>1.000000</td>\n",
              "      <td>6.000000</td>\n",
              "      <td>2.000000</td>\n",
              "      <td>15.000000</td>\n",
              "    </tr>\n",
              "    <tr>\n",
              "      <th>75%</th>\n",
              "      <td>5.000000</td>\n",
              "      <td>523.000000</td>\n",
              "      <td>1.0</td>\n",
              "      <td>0.0</td>\n",
              "      <td>1.000000</td>\n",
              "      <td>9.000000</td>\n",
              "      <td>4.000000</td>\n",
              "      <td>20.000000</td>\n",
              "    </tr>\n",
              "    <tr>\n",
              "      <th>max</th>\n",
              "      <td>7.000000</td>\n",
              "      <td>759.000000</td>\n",
              "      <td>1.0</td>\n",
              "      <td>0.0</td>\n",
              "      <td>32.000000</td>\n",
              "      <td>12.000000</td>\n",
              "      <td>5.000000</td>\n",
              "      <td>24.000000</td>\n",
              "    </tr>\n",
              "  </tbody>\n",
              "</table>\n",
              "</div>\n",
              "      <button class=\"colab-df-convert\" onclick=\"convertToInteractive('df-c6d4aa98-f12b-4033-a32c-0b400513ec0a')\"\n",
              "              title=\"Convert this dataframe to an interactive table.\"\n",
              "              style=\"display:none;\">\n",
              "        \n",
              "  <svg xmlns=\"http://www.w3.org/2000/svg\" height=\"24px\"viewBox=\"0 0 24 24\"\n",
              "       width=\"24px\">\n",
              "    <path d=\"M0 0h24v24H0V0z\" fill=\"none\"/>\n",
              "    <path d=\"M18.56 5.44l.94 2.06.94-2.06 2.06-.94-2.06-.94-.94-2.06-.94 2.06-2.06.94zm-11 1L8.5 8.5l.94-2.06 2.06-.94-2.06-.94L8.5 2.5l-.94 2.06-2.06.94zm10 10l.94 2.06.94-2.06 2.06-.94-2.06-.94-.94-2.06-.94 2.06-2.06.94z\"/><path d=\"M17.41 7.96l-1.37-1.37c-.4-.4-.92-.59-1.43-.59-.52 0-1.04.2-1.43.59L10.3 9.45l-7.72 7.72c-.78.78-.78 2.05 0 2.83L4 21.41c.39.39.9.59 1.41.59.51 0 1.02-.2 1.41-.59l7.78-7.78 2.81-2.81c.8-.78.8-2.07 0-2.86zM5.41 20L4 18.59l7.72-7.72 1.47 1.35L5.41 20z\"/>\n",
              "  </svg>\n",
              "      </button>\n",
              "      \n",
              "  <style>\n",
              "    .colab-df-container {\n",
              "      display:flex;\n",
              "      flex-wrap:wrap;\n",
              "      gap: 12px;\n",
              "    }\n",
              "\n",
              "    .colab-df-convert {\n",
              "      background-color: #E8F0FE;\n",
              "      border: none;\n",
              "      border-radius: 50%;\n",
              "      cursor: pointer;\n",
              "      display: none;\n",
              "      fill: #1967D2;\n",
              "      height: 32px;\n",
              "      padding: 0 0 0 0;\n",
              "      width: 32px;\n",
              "    }\n",
              "\n",
              "    .colab-df-convert:hover {\n",
              "      background-color: #E2EBFA;\n",
              "      box-shadow: 0px 1px 2px rgba(60, 64, 67, 0.3), 0px 1px 3px 1px rgba(60, 64, 67, 0.15);\n",
              "      fill: #174EA6;\n",
              "    }\n",
              "\n",
              "    [theme=dark] .colab-df-convert {\n",
              "      background-color: #3B4455;\n",
              "      fill: #D2E3FC;\n",
              "    }\n",
              "\n",
              "    [theme=dark] .colab-df-convert:hover {\n",
              "      background-color: #434B5C;\n",
              "      box-shadow: 0px 1px 3px 1px rgba(0, 0, 0, 0.15);\n",
              "      filter: drop-shadow(0px 1px 2px rgba(0, 0, 0, 0.3));\n",
              "      fill: #FFFFFF;\n",
              "    }\n",
              "  </style>\n",
              "\n",
              "      <script>\n",
              "        const buttonEl =\n",
              "          document.querySelector('#df-c6d4aa98-f12b-4033-a32c-0b400513ec0a button.colab-df-convert');\n",
              "        buttonEl.style.display =\n",
              "          google.colab.kernel.accessAllowed ? 'block' : 'none';\n",
              "\n",
              "        async function convertToInteractive(key) {\n",
              "          const element = document.querySelector('#df-c6d4aa98-f12b-4033-a32c-0b400513ec0a');\n",
              "          const dataTable =\n",
              "            await google.colab.kernel.invokeFunction('convertToInteractive',\n",
              "                                                     [key], {});\n",
              "          if (!dataTable) return;\n",
              "\n",
              "          const docLinkHtml = 'Like what you see? Visit the ' +\n",
              "            '<a target=\"_blank\" href=https://colab.research.google.com/notebooks/data_table.ipynb>data table notebook</a>'\n",
              "            + ' to learn more about interactive tables.';\n",
              "          element.innerHTML = '';\n",
              "          dataTable['output_type'] = 'display_data';\n",
              "          await google.colab.output.renderOutput(dataTable, element);\n",
              "          const docLink = document.createElement('div');\n",
              "          docLink.innerHTML = docLinkHtml;\n",
              "          element.appendChild(docLink);\n",
              "        }\n",
              "      </script>\n",
              "    </div>\n",
              "  </div>\n",
              "  "
            ]
          },
          "metadata": {},
          "execution_count": 5
        }
      ]
    },
    {
      "cell_type": "code",
      "source": [
        "#describing statistical characteristics of all types of variables:\n",
        "subset.describe(include='all')"
      ],
      "metadata": {
        "colab": {
          "base_uri": "https://localhost:8080/",
          "height": 476
        },
        "id": "bmLFqFaKyBOR",
        "outputId": "57226b06-c633-4506-a18f-9c7e356487fa"
      },
      "execution_count": null,
      "outputs": [
        {
          "output_type": "execute_result",
          "data": {
            "text/plain": [
              "               OFFENSE_TYPE_ID OFFENSE_CATEGORY_ID    DISTRICT_ID  \\\n",
              "count                   376811              376811  376227.000000   \n",
              "unique                     195                  14            NaN   \n",
              "top     theft-of-motor-vehicle     public-disorder            NaN   \n",
              "freq                     44530               55684            NaN   \n",
              "mean                       NaN                 NaN       3.653199   \n",
              "std                        NaN                 NaN       1.790020   \n",
              "min                        NaN                 NaN       1.000000   \n",
              "25%                        NaN                 NaN       2.000000   \n",
              "50%                        NaN                 NaN       3.000000   \n",
              "75%                        NaN                 NaN       5.000000   \n",
              "max                        NaN                 NaN       7.000000   \n",
              "\n",
              "          PRECINCT_ID  IS_CRIME  IS_TRAFFIC   VICTIM_COUNT          Month  \\\n",
              "count   376227.000000  376811.0    376811.0  376811.000000  376811.000000   \n",
              "unique            NaN       NaN         NaN            NaN            NaN   \n",
              "top               NaN       NaN         NaN            NaN            NaN   \n",
              "freq              NaN       NaN         NaN            NaN            NaN   \n",
              "mean       383.203882       1.0         0.0       1.020156       6.278930   \n",
              "std        179.980649       0.0         0.0       0.226457       3.376172   \n",
              "min        111.000000       1.0         0.0       1.000000       1.000000   \n",
              "25%        222.000000       1.0         0.0       1.000000       3.000000   \n",
              "50%        324.000000       1.0         0.0       1.000000       6.000000   \n",
              "75%        523.000000       1.0         0.0       1.000000       9.000000   \n",
              "max        759.000000       1.0         0.0      32.000000      12.000000   \n",
              "\n",
              "                 Year           Hour  \n",
              "count   376811.000000  376811.000000  \n",
              "unique            NaN            NaN  \n",
              "top               NaN            NaN  \n",
              "freq              NaN            NaN  \n",
              "mean         2.408263      14.334337  \n",
              "std          1.627524       6.525955  \n",
              "min          0.000000       1.000000  \n",
              "25%          1.000000      10.000000  \n",
              "50%          2.000000      15.000000  \n",
              "75%          4.000000      20.000000  \n",
              "max          5.000000      24.000000  "
            ],
            "text/html": [
              "\n",
              "  <div id=\"df-6c8f8a77-fde8-4bc0-bc0f-310ae7aacfd0\">\n",
              "    <div class=\"colab-df-container\">\n",
              "      <div>\n",
              "<style scoped>\n",
              "    .dataframe tbody tr th:only-of-type {\n",
              "        vertical-align: middle;\n",
              "    }\n",
              "\n",
              "    .dataframe tbody tr th {\n",
              "        vertical-align: top;\n",
              "    }\n",
              "\n",
              "    .dataframe thead th {\n",
              "        text-align: right;\n",
              "    }\n",
              "</style>\n",
              "<table border=\"1\" class=\"dataframe\">\n",
              "  <thead>\n",
              "    <tr style=\"text-align: right;\">\n",
              "      <th></th>\n",
              "      <th>OFFENSE_TYPE_ID</th>\n",
              "      <th>OFFENSE_CATEGORY_ID</th>\n",
              "      <th>DISTRICT_ID</th>\n",
              "      <th>PRECINCT_ID</th>\n",
              "      <th>IS_CRIME</th>\n",
              "      <th>IS_TRAFFIC</th>\n",
              "      <th>VICTIM_COUNT</th>\n",
              "      <th>Month</th>\n",
              "      <th>Year</th>\n",
              "      <th>Hour</th>\n",
              "    </tr>\n",
              "  </thead>\n",
              "  <tbody>\n",
              "    <tr>\n",
              "      <th>count</th>\n",
              "      <td>376811</td>\n",
              "      <td>376811</td>\n",
              "      <td>376227.000000</td>\n",
              "      <td>376227.000000</td>\n",
              "      <td>376811.0</td>\n",
              "      <td>376811.0</td>\n",
              "      <td>376811.000000</td>\n",
              "      <td>376811.000000</td>\n",
              "      <td>376811.000000</td>\n",
              "      <td>376811.000000</td>\n",
              "    </tr>\n",
              "    <tr>\n",
              "      <th>unique</th>\n",
              "      <td>195</td>\n",
              "      <td>14</td>\n",
              "      <td>NaN</td>\n",
              "      <td>NaN</td>\n",
              "      <td>NaN</td>\n",
              "      <td>NaN</td>\n",
              "      <td>NaN</td>\n",
              "      <td>NaN</td>\n",
              "      <td>NaN</td>\n",
              "      <td>NaN</td>\n",
              "    </tr>\n",
              "    <tr>\n",
              "      <th>top</th>\n",
              "      <td>theft-of-motor-vehicle</td>\n",
              "      <td>public-disorder</td>\n",
              "      <td>NaN</td>\n",
              "      <td>NaN</td>\n",
              "      <td>NaN</td>\n",
              "      <td>NaN</td>\n",
              "      <td>NaN</td>\n",
              "      <td>NaN</td>\n",
              "      <td>NaN</td>\n",
              "      <td>NaN</td>\n",
              "    </tr>\n",
              "    <tr>\n",
              "      <th>freq</th>\n",
              "      <td>44530</td>\n",
              "      <td>55684</td>\n",
              "      <td>NaN</td>\n",
              "      <td>NaN</td>\n",
              "      <td>NaN</td>\n",
              "      <td>NaN</td>\n",
              "      <td>NaN</td>\n",
              "      <td>NaN</td>\n",
              "      <td>NaN</td>\n",
              "      <td>NaN</td>\n",
              "    </tr>\n",
              "    <tr>\n",
              "      <th>mean</th>\n",
              "      <td>NaN</td>\n",
              "      <td>NaN</td>\n",
              "      <td>3.653199</td>\n",
              "      <td>383.203882</td>\n",
              "      <td>1.0</td>\n",
              "      <td>0.0</td>\n",
              "      <td>1.020156</td>\n",
              "      <td>6.278930</td>\n",
              "      <td>2.408263</td>\n",
              "      <td>14.334337</td>\n",
              "    </tr>\n",
              "    <tr>\n",
              "      <th>std</th>\n",
              "      <td>NaN</td>\n",
              "      <td>NaN</td>\n",
              "      <td>1.790020</td>\n",
              "      <td>179.980649</td>\n",
              "      <td>0.0</td>\n",
              "      <td>0.0</td>\n",
              "      <td>0.226457</td>\n",
              "      <td>3.376172</td>\n",
              "      <td>1.627524</td>\n",
              "      <td>6.525955</td>\n",
              "    </tr>\n",
              "    <tr>\n",
              "      <th>min</th>\n",
              "      <td>NaN</td>\n",
              "      <td>NaN</td>\n",
              "      <td>1.000000</td>\n",
              "      <td>111.000000</td>\n",
              "      <td>1.0</td>\n",
              "      <td>0.0</td>\n",
              "      <td>1.000000</td>\n",
              "      <td>1.000000</td>\n",
              "      <td>0.000000</td>\n",
              "      <td>1.000000</td>\n",
              "    </tr>\n",
              "    <tr>\n",
              "      <th>25%</th>\n",
              "      <td>NaN</td>\n",
              "      <td>NaN</td>\n",
              "      <td>2.000000</td>\n",
              "      <td>222.000000</td>\n",
              "      <td>1.0</td>\n",
              "      <td>0.0</td>\n",
              "      <td>1.000000</td>\n",
              "      <td>3.000000</td>\n",
              "      <td>1.000000</td>\n",
              "      <td>10.000000</td>\n",
              "    </tr>\n",
              "    <tr>\n",
              "      <th>50%</th>\n",
              "      <td>NaN</td>\n",
              "      <td>NaN</td>\n",
              "      <td>3.000000</td>\n",
              "      <td>324.000000</td>\n",
              "      <td>1.0</td>\n",
              "      <td>0.0</td>\n",
              "      <td>1.000000</td>\n",
              "      <td>6.000000</td>\n",
              "      <td>2.000000</td>\n",
              "      <td>15.000000</td>\n",
              "    </tr>\n",
              "    <tr>\n",
              "      <th>75%</th>\n",
              "      <td>NaN</td>\n",
              "      <td>NaN</td>\n",
              "      <td>5.000000</td>\n",
              "      <td>523.000000</td>\n",
              "      <td>1.0</td>\n",
              "      <td>0.0</td>\n",
              "      <td>1.000000</td>\n",
              "      <td>9.000000</td>\n",
              "      <td>4.000000</td>\n",
              "      <td>20.000000</td>\n",
              "    </tr>\n",
              "    <tr>\n",
              "      <th>max</th>\n",
              "      <td>NaN</td>\n",
              "      <td>NaN</td>\n",
              "      <td>7.000000</td>\n",
              "      <td>759.000000</td>\n",
              "      <td>1.0</td>\n",
              "      <td>0.0</td>\n",
              "      <td>32.000000</td>\n",
              "      <td>12.000000</td>\n",
              "      <td>5.000000</td>\n",
              "      <td>24.000000</td>\n",
              "    </tr>\n",
              "  </tbody>\n",
              "</table>\n",
              "</div>\n",
              "      <button class=\"colab-df-convert\" onclick=\"convertToInteractive('df-6c8f8a77-fde8-4bc0-bc0f-310ae7aacfd0')\"\n",
              "              title=\"Convert this dataframe to an interactive table.\"\n",
              "              style=\"display:none;\">\n",
              "        \n",
              "  <svg xmlns=\"http://www.w3.org/2000/svg\" height=\"24px\"viewBox=\"0 0 24 24\"\n",
              "       width=\"24px\">\n",
              "    <path d=\"M0 0h24v24H0V0z\" fill=\"none\"/>\n",
              "    <path d=\"M18.56 5.44l.94 2.06.94-2.06 2.06-.94-2.06-.94-.94-2.06-.94 2.06-2.06.94zm-11 1L8.5 8.5l.94-2.06 2.06-.94-2.06-.94L8.5 2.5l-.94 2.06-2.06.94zm10 10l.94 2.06.94-2.06 2.06-.94-2.06-.94-.94-2.06-.94 2.06-2.06.94z\"/><path d=\"M17.41 7.96l-1.37-1.37c-.4-.4-.92-.59-1.43-.59-.52 0-1.04.2-1.43.59L10.3 9.45l-7.72 7.72c-.78.78-.78 2.05 0 2.83L4 21.41c.39.39.9.59 1.41.59.51 0 1.02-.2 1.41-.59l7.78-7.78 2.81-2.81c.8-.78.8-2.07 0-2.86zM5.41 20L4 18.59l7.72-7.72 1.47 1.35L5.41 20z\"/>\n",
              "  </svg>\n",
              "      </button>\n",
              "      \n",
              "  <style>\n",
              "    .colab-df-container {\n",
              "      display:flex;\n",
              "      flex-wrap:wrap;\n",
              "      gap: 12px;\n",
              "    }\n",
              "\n",
              "    .colab-df-convert {\n",
              "      background-color: #E8F0FE;\n",
              "      border: none;\n",
              "      border-radius: 50%;\n",
              "      cursor: pointer;\n",
              "      display: none;\n",
              "      fill: #1967D2;\n",
              "      height: 32px;\n",
              "      padding: 0 0 0 0;\n",
              "      width: 32px;\n",
              "    }\n",
              "\n",
              "    .colab-df-convert:hover {\n",
              "      background-color: #E2EBFA;\n",
              "      box-shadow: 0px 1px 2px rgba(60, 64, 67, 0.3), 0px 1px 3px 1px rgba(60, 64, 67, 0.15);\n",
              "      fill: #174EA6;\n",
              "    }\n",
              "\n",
              "    [theme=dark] .colab-df-convert {\n",
              "      background-color: #3B4455;\n",
              "      fill: #D2E3FC;\n",
              "    }\n",
              "\n",
              "    [theme=dark] .colab-df-convert:hover {\n",
              "      background-color: #434B5C;\n",
              "      box-shadow: 0px 1px 3px 1px rgba(0, 0, 0, 0.15);\n",
              "      filter: drop-shadow(0px 1px 2px rgba(0, 0, 0, 0.3));\n",
              "      fill: #FFFFFF;\n",
              "    }\n",
              "  </style>\n",
              "\n",
              "      <script>\n",
              "        const buttonEl =\n",
              "          document.querySelector('#df-6c8f8a77-fde8-4bc0-bc0f-310ae7aacfd0 button.colab-df-convert');\n",
              "        buttonEl.style.display =\n",
              "          google.colab.kernel.accessAllowed ? 'block' : 'none';\n",
              "\n",
              "        async function convertToInteractive(key) {\n",
              "          const element = document.querySelector('#df-6c8f8a77-fde8-4bc0-bc0f-310ae7aacfd0');\n",
              "          const dataTable =\n",
              "            await google.colab.kernel.invokeFunction('convertToInteractive',\n",
              "                                                     [key], {});\n",
              "          if (!dataTable) return;\n",
              "\n",
              "          const docLinkHtml = 'Like what you see? Visit the ' +\n",
              "            '<a target=\"_blank\" href=https://colab.research.google.com/notebooks/data_table.ipynb>data table notebook</a>'\n",
              "            + ' to learn more about interactive tables.';\n",
              "          element.innerHTML = '';\n",
              "          dataTable['output_type'] = 'display_data';\n",
              "          await google.colab.output.renderOutput(dataTable, element);\n",
              "          const docLink = document.createElement('div');\n",
              "          docLink.innerHTML = docLinkHtml;\n",
              "          element.appendChild(docLink);\n",
              "        }\n",
              "      </script>\n",
              "    </div>\n",
              "  </div>\n",
              "  "
            ]
          },
          "metadata": {},
          "execution_count": 6
        }
      ]
    },
    {
      "cell_type": "code",
      "source": [
        " # attempting to find outliers \n",
        "\n",
        "min_=subset.Month.min()\n",
        "max_=subset.Month.max()\n",
        "q1=subset.Month.quantile(0.25)\n",
        "q2=subset.Month.quantile(0.5)\n",
        "q3=subset.Month.quantile(0.75)\n",
        "iqr=q3-q1\n",
        "\n",
        "lower_cutoff = q1 - 1.5*iqr\n",
        "upper_cutoff = q3 + 1.5*iqr\n",
        "\n",
        "print(f'lower cutoff: {lower_cutoff}  upper cutoff: {upper_cutoff}')\n",
        "print( \"min = \" , min_ ,\", max = \" , max_ ,\", lc = \" , lower_cutoff ,\", uc = \" , upper_cutoff)\n",
        "\n",
        "subset.Month.plot(kind=\"box\", title='box plot for month')"
      ],
      "metadata": {
        "id": "8n0ctFIHzLeS"
      },
      "execution_count": null,
      "outputs": []
    },
    {
      "cell_type": "code",
      "source": [
        "min_=subset.VICTIM_COUNT.min()\n",
        "max_=subset.VICTIM_COUNT.max()\n",
        "q1=subset.VICTIM_COUNT.quantile(0.25)\n",
        "q2=subset.VICTIM_COUNT.quantile(0.5)\n",
        "q3=subset.VICTIM_COUNT.quantile(0.75)\n",
        "iqr=q3-q1\n",
        "\n",
        "lower_cutoff = q1 - 1.5*iqr\n",
        "upper_cutoff = q3 + 1.5*iqr\n",
        "\n",
        "print(f'lower cutoff: {lower_cutoff}  upper cutoff: {upper_cutoff}')\n",
        "print( \"min = \" , min_ ,\", max = \" , max_ ,\", lc = \" , lower_cutoff ,\", uc = \" , upper_cutoff)\n",
        "\n",
        "subset.VICTIM_COUNT.plot(kind=\"box\", title='box plot for VICTIM_COUNT')"
      ],
      "metadata": {
        "id": "PmXkay674ipJ"
      },
      "execution_count": null,
      "outputs": []
    },
    {
      "cell_type": "code",
      "source": [
        "plt.plot(subset['Hour'].value_counts())\n",
        "plt.xlabel('time in hours [Hrs]')\n",
        "plt.ylabel('# of crimes')\n",
        "plt.title('#of crimes at particular time(hrs)')\n",
        " #$subset['Hour'].value_counts()"
      ],
      "metadata": {
        "id": "Drz06aaM81GB"
      },
      "execution_count": null,
      "outputs": []
    },
    {
      "cell_type": "code",
      "source": [
        "plt.plot(subset['Year'].value_counts())\n",
        "plt.xlabel('year')\n",
        "plt.ylabel('# of crimes')\n",
        "plt.title('#of crimes over 5 years (2017-2022)')"
      ],
      "metadata": {
        "id": "6igxy3yh-xkb"
      },
      "execution_count": null,
      "outputs": []
    },
    {
      "cell_type": "code",
      "source": [
        " \\section{Milestones}subset.plot(x='VICTIM_COUNT',y='OFFENSE_CATEGORY_ID',kind = 'scatter')\n",
        " plt.show()"
      ],
      "metadata": {
        "id": "sRHTnrKM__wH"
      },
      "execution_count": null,
      "outputs": []
    },
    {
      "cell_type": "code",
      "source": [
        "# # Unique Offence_type_IDs types\n",
        "import random\n",
        "offence_ids = df['OFFENSE_CATEGORY_ID'].unique()\n",
        "\n",
        "colors = [\"#\" + ''.join([random.choice('0123456789ABCDEF') for j in range(6)])\n",
        "for i in range(len(offence_ids))]\n",
        "patches, texts = plt.pie(df['OFFENSE_CATEGORY_ID'].value_counts(),\n",
        "  colors=colors,\n",
        "  startangle=90,\n",
        "  labels=offence_ids)\n",
        "labels = ['{0} - {1:1.2f} %'.format(i, j) for i, j in zip(offence_ids,\n",
        "100.*df['OFFENSE_CATEGORY_ID'].value_counts()/df['OFFENSE_CATEGORY_ID'].value_counts().sum())]\n",
        "plt.legend(patches, labels, loc='upper right', bbox_to_anchor=(-0.35, .5), fontsize=10)\n",
        "plt.xticks(rotation=60, ha='right')\n",
        "plt.show()"
      ],
      "metadata": {
        "id": "rB9_kPEJkKgZ"
      },
      "execution_count": null,
      "outputs": []
    },
    {
      "cell_type": "code",
      "source": [
        "offCat = pd.unique(df['OFFENSE_CATEGORY_ID'])\n",
        "offCount = dict.fromkeys(offCat, 0);\n",
        "for entry in df['OFFENSE_CATEGORY_ID']:\n",
        "     offCount[entry] += 1\n",
        "fig = plt.figure(figsize = (10,5))\n",
        "plt.bar(offCat, list(offCount.values()))\n",
        "plt.xlabel(\"Category of crime\")\n",
        "plt.ylabel(\"# of cases\")\n",
        "plt.title(\"Total number of each category of criminal offense\")\n",
        "plt.xticks(rotation=45, ha='right')\n",
        "plt.show()"
      ],
      "metadata": {
        "id": "Jcwy4KD3hQ1u"
      },
      "execution_count": null,
      "outputs": []
    },
    {
      "cell_type": "code",
      "source": [
        "offType = pd.unique(df['OFFENSE_TYPE_ID'])\n",
        "offTypeCount = dict.fromkeys(offType, 0);\n",
        "for entry in df['OFFENSE_TYPE_ID']:\n",
        "    offTypeCount[entry] += 1\n",
        "plotTypes = []\n",
        "plotVals = []\n",
        "for i in range(len(offType)):\n",
        "    if offTypeCount[offType[i]] >= 15000:       ## Only the most frequent types of offenses (there are a lot in total)\n",
        "        plotTypes.append(offType[i])\n",
        "        plotVals.append(offTypeCount[offType[i]])\n",
        "fig = plt.figure(figsize = (20,5))\n",
        "plt.bar(plotTypes, plotVals)\n",
        "plt.xlabel(\"Type of crime\")\n",
        "plt.ylabel(\"# of cases\")\n",
        "plt.title(\"Total number of each type of criminal offense\")\n",
        "plt.show()"
      ],
      "metadata": {
        "id": "3L14U_LhKPK9"
      },
      "execution_count": null,
      "outputs": []
    },
    {
      "cell_type": "code",
      "source": [
        " precinctID = pd.unique(df['PRECINCT_ID'])\n",
        " offPreCount = dict.fromkeys(precinctID, 0);\n",
        " for entry in df['PRECINCT_ID']:\n",
        "     if entry > 0:                       ## PRECINCT_ID contains NaN \n",
        "         offPreCount[entry] += 1\n",
        " fig = plt.figure(figsize = (15,5))\n",
        " plt.bar(precinctID, list(offPreCount.values()))\n",
        " plt.xlabel(\"ID of precinct\")\n",
        " plt.ylabel(\"# of cases\")\n",
        " plt.title(\"Number of criminal offenses for each precinct\")\n",
        " plt.show()"
      ],
      "metadata": {
        "id": "AYob9oiiNqVo"
      },
      "execution_count": null,
      "outputs": []
    },
    {
      "cell_type": "code",
      "source": [
        "monthNums = pd.unique(subset['Month'])\n",
        "offMonthCount = dict.fromkeys(monthNums, 0);\n",
        "for entry in subset['Month']:\n",
        "    offMonthCount[entry] += 1\n",
        "fig = plt.figure(figsize = (15,5))\n",
        "plt.bar(monthNums, list(offMonthCount.values()), color='red')\n",
        "plt.xlabel(\"Month\")\n",
        "plt.ylabel(\"# of cases\")\n",
        "plt.title(\"Total number of criminal offenses per month\")\n",
        "plt.show()"
      ],
      "metadata": {
        "id": "nFHq23HDO43l"
      },
      "execution_count": null,
      "outputs": []
    },
    {
      "cell_type": "code",
      "source": [
        "yearNums = pd.unique(subset['Year'])\n",
        "offYearCount = dict.fromkeys(yearNums, 0);\n",
        "for entry in subset['Year']:\n",
        "    offYearCount[entry] += 1\n",
        "fig = plt.figure(figsize = (15,5))\n",
        "plt.bar(yearNums, list(offYearCount.values()),color='green')\n",
        "plt.xlabel(\"Year\")\n",
        "plt.ylabel(\"# of cases\")\n",
        "plt.title(\"Total number of criminal offenses per Year\")\n",
        "plt.show()"
      ],
      "metadata": {
        "id": "GPaJR0CVQ1eD"
      },
      "execution_count": null,
      "outputs": []
    },
    {
      "cell_type": "markdown",
      "source": [
        "**classification algos**"
      ],
      "metadata": {
        "id": "fNjBjDtj70Ma"
      }
    },
    {
      "cell_type": "code",
      "source": [
        "subset['OFFENSE_CATEGORY_ID'].unique()"
      ],
      "metadata": {
        "id": "AyJEubAn7zti",
        "colab": {
          "base_uri": "https://localhost:8080/"
        },
        "outputId": "2366fae5-989c-4995-e898-6168af099896"
      },
      "execution_count": null,
      "outputs": [
        {
          "output_type": "execute_result",
          "data": {
            "text/plain": [
              "array(['public-disorder', 'drug-alcohol', 'sexual-assault',\n",
              "       'all-other-crimes', 'robbery', 'other-crimes-against-persons',\n",
              "       'aggravated-assault', 'arson', 'burglary', 'larceny',\n",
              "       'theft-from-motor-vehicle', 'auto-theft', 'white-collar-crime',\n",
              "       'murder'], dtype=object)"
            ]
          },
          "metadata": {},
          "execution_count": 7
        }
      ]
    },
    {
      "cell_type": "code",
      "source": [
        "#splitting target and examples from dataframe\n",
        "subset_x=subset.drop(['OFFENSE_CATEGORY_ID','OFFENSE_TYPE_ID'], axis=1)\n",
        "subset_y=subset['OFFENSE_CATEGORY_ID']\n",
        "\n",
        "#filling missing data(NAN) with 0 \n",
        "\n",
        "subset_x=subset_x.fillna(0)\n",
        "subset_y=subset_y.fillna(0)\n",
        "print(np.shape(subset_y))\n",
        "np.shape(subset_x)"
      ],
      "metadata": {
        "id": "_bEXfXYA8LrK",
        "colab": {
          "base_uri": "https://localhost:8080/"
        },
        "outputId": "598510ed-2258-44b5-fab8-1653bfb62152"
      },
      "execution_count": null,
      "outputs": [
        {
          "output_type": "stream",
          "name": "stdout",
          "text": [
            "(376811,)\n"
          ]
        },
        {
          "output_type": "execute_result",
          "data": {
            "text/plain": [
              "(376811, 8)"
            ]
          },
          "metadata": {},
          "execution_count": 8
        }
      ]
    },
    {
      "cell_type": "code",
      "source": [
        "#train test split (80/20)\n",
        "x_train,x_test,y_train,y_test=train_test_split(subset_x,subset_y,test_size=0.20)"
      ],
      "metadata": {
        "id": "oawlNJYy8Oq4"
      },
      "execution_count": null,
      "outputs": []
    },
    {
      "cell_type": "markdown",
      "source": [
        "**Decision Tree**"
      ],
      "metadata": {
        "id": "iPm4X9zXB4Dc"
      }
    },
    {
      "cell_type": "code",
      "source": [
        "#decision tree implementation with entropy \n",
        "Dt=DecisionTreeClassifier(criterion='entropy', max_depth=None, min_samples_leaf=14)\n",
        "Dt.fit(x_train.values,y_train.values)"
      ],
      "metadata": {
        "id": "xT7xVrvq8Ttw",
        "colab": {
          "base_uri": "https://localhost:8080/"
        },
        "outputId": "8e9e56f4-4bc5-4a8a-e920-f44acbb1d538"
      },
      "execution_count": null,
      "outputs": [
        {
          "output_type": "execute_result",
          "data": {
            "text/plain": [
              "DecisionTreeClassifier(criterion='entropy', min_samples_leaf=14)"
            ]
          },
          "metadata": {},
          "execution_count": 12
        }
      ]
    },
    {
      "cell_type": "code",
      "source": [
        "y_pred=Dt.predict(x_test.values)\n",
        "print((\"Accuracy for this decision tree with entropy as a measure to split is : \"), accuracy_score(y_test,y_pred)*100)\n",
        "print('\\n')\n",
        "print(('report for entropy based decision tree: \\n'),classification_report(y_test, y_pred))"
      ],
      "metadata": {
        "id": "OvrSbrzG8YZR",
        "colab": {
          "base_uri": "https://localhost:8080/"
        },
        "outputId": "4f09fec2-d38a-46b9-b793-395fad0f329a"
      },
      "execution_count": null,
      "outputs": [
        {
          "output_type": "stream",
          "name": "stdout",
          "text": [
            "Accuracy for this decision tree with entropy as a measure to split is :  21.426960179398378\n",
            "\n",
            "\n"
          ]
        },
        {
          "output_type": "stream",
          "name": "stderr",
          "text": [
            "/usr/local/lib/python3.7/dist-packages/sklearn/metrics/_classification.py:1318: UndefinedMetricWarning: Precision and F-score are ill-defined and being set to 0.0 in labels with no predicted samples. Use `zero_division` parameter to control this behavior.\n",
            "  _warn_prf(average, modifier, msg_start, len(result))\n",
            "/usr/local/lib/python3.7/dist-packages/sklearn/metrics/_classification.py:1318: UndefinedMetricWarning: Precision and F-score are ill-defined and being set to 0.0 in labels with no predicted samples. Use `zero_division` parameter to control this behavior.\n",
            "  _warn_prf(average, modifier, msg_start, len(result))\n"
          ]
        },
        {
          "output_type": "stream",
          "name": "stdout",
          "text": [
            "report for entropy based decision tree: \n",
            "                               precision    recall  f1-score   support\n",
            "\n",
            "          aggravated-assault       0.29      0.13      0.18      3239\n",
            "            all-other-crimes       0.24      0.38      0.30     11038\n",
            "                       arson       0.00      0.00      0.00       165\n",
            "                  auto-theft       0.20      0.26      0.23      9149\n",
            "                    burglary       0.13      0.08      0.10      5169\n",
            "                drug-alcohol       0.23      0.20      0.22      4879\n",
            "                     larceny       0.24      0.31      0.27     10768\n",
            "                      murder       0.00      0.00      0.00        81\n",
            "other-crimes-against-persons       0.16      0.05      0.08      4953\n",
            "             public-disorder       0.18      0.16      0.17     11223\n",
            "                     robbery       0.00      0.00      0.00      1389\n",
            "              sexual-assault       0.00      0.00      0.00       931\n",
            "    theft-from-motor-vehicle       0.20      0.21      0.21     10960\n",
            "          white-collar-crime       0.15      0.01      0.02      1419\n",
            "\n",
            "                    accuracy                           0.21     75363\n",
            "                   macro avg       0.14      0.13      0.13     75363\n",
            "                weighted avg       0.20      0.21      0.20     75363\n",
            "\n"
          ]
        },
        {
          "output_type": "stream",
          "name": "stderr",
          "text": [
            "/usr/local/lib/python3.7/dist-packages/sklearn/metrics/_classification.py:1318: UndefinedMetricWarning: Precision and F-score are ill-defined and being set to 0.0 in labels with no predicted samples. Use `zero_division` parameter to control this behavior.\n",
            "  _warn_prf(average, modifier, msg_start, len(result))\n"
          ]
        }
      ]
    },
    {
      "cell_type": "code",
      "source": [
        "plot_confusion_matrix(Dt, x_test, y_test) \n",
        "plt.title('confusion matrix for entropy based Decision tree') \n",
        "plt.xticks(rotation=90)\n",
        "plt.show()"
      ],
      "metadata": {
        "id": "k6eRNxYI8Zu4",
        "colab": {
          "base_uri": "https://localhost:8080/",
          "height": 523
        },
        "outputId": "748b5b7d-3178-418b-db23-ffde69c3aef2"
      },
      "execution_count": null,
      "outputs": [
        {
          "output_type": "stream",
          "name": "stderr",
          "text": [
            "/usr/local/lib/python3.7/dist-packages/sklearn/utils/deprecation.py:87: FutureWarning: Function plot_confusion_matrix is deprecated; Function `plot_confusion_matrix` is deprecated in 1.0 and will be removed in 1.2. Use one of the class methods: ConfusionMatrixDisplay.from_predictions or ConfusionMatrixDisplay.from_estimator.\n",
            "  warnings.warn(msg, category=FutureWarning)\n",
            "/usr/local/lib/python3.7/dist-packages/sklearn/base.py:444: UserWarning: X has feature names, but DecisionTreeClassifier was fitted without feature names\n",
            "  f\"X has feature names, but {self.__class__.__name__} was fitted without\"\n"
          ]
        },
        {
          "output_type": "display_data",
          "data": {
            "text/plain": [
              "<Figure size 432x288 with 2 Axes>"
            ],
            "image/png": "[encoded data removed]"
          },
          "metadata": {
            "needs_background": "light"
          }
        }
      ]
    },
    {
      "cell_type": "code",
      "source": [
        "#DT with Gini index\n",
        "Dt_gini=DecisionTreeClassifier(criterion='gini', max_depth=None, min_samples_leaf=14)\n",
        "Dt_gini.fit(x_train.values,y_train.values)"
      ],
      "metadata": {
        "id": "0QbJPi798f7c",
        "colab": {
          "base_uri": "https://localhost:8080/"
        },
        "outputId": "acfe2679-5494-4383-c45c-0781941edb87"
      },
      "execution_count": null,
      "outputs": [
        {
          "output_type": "execute_result",
          "data": {
            "text/plain": [
              "DecisionTreeClassifier(min_samples_leaf=14)"
            ]
          },
          "metadata": {},
          "execution_count": 15
        }
      ]
    },
    {
      "cell_type": "code",
      "source": [
        "y_pred_gini=Dt_gini.predict(x_test.values)\n",
        "print((\"Accuracy for this decision tree with gini as a measure to split is : \"), accuracy_score(y_test,y_pred_gini)*100)\n",
        "print('\\n')\n",
        "print(('report for gini based decision tree: \\n'),classification_report(y_test, y_pred_gini))"
      ],
      "metadata": {
        "id": "_S3pYA_s8jap",
        "colab": {
          "base_uri": "https://localhost:8080/"
        },
        "outputId": "8790d42f-f682-4da1-f23b-c0a8213de52a"
      },
      "execution_count": null,
      "outputs": [
        {
          "output_type": "stream",
          "name": "stdout",
          "text": [
            "Accuracy for this decision tree with gini as a measure to split is :  21.55699746559983\n",
            "\n",
            "\n"
          ]
        },
        {
          "output_type": "stream",
          "name": "stderr",
          "text": [
            "/usr/local/lib/python3.7/dist-packages/sklearn/metrics/_classification.py:1318: UndefinedMetricWarning: Precision and F-score are ill-defined and being set to 0.0 in labels with no predicted samples. Use `zero_division` parameter to control this behavior.\n",
            "  _warn_prf(average, modifier, msg_start, len(result))\n",
            "/usr/local/lib/python3.7/dist-packages/sklearn/metrics/_classification.py:1318: UndefinedMetricWarning: Precision and F-score are ill-defined and being set to 0.0 in labels with no predicted samples. Use `zero_division` parameter to control this behavior.\n",
            "  _warn_prf(average, modifier, msg_start, len(result))\n"
          ]
        },
        {
          "output_type": "stream",
          "name": "stdout",
          "text": [
            "report for gini based decision tree: \n",
            "                               precision    recall  f1-score   support\n",
            "\n",
            "          aggravated-assault       0.28      0.12      0.17      3239\n",
            "            all-other-crimes       0.24      0.37      0.30     11038\n",
            "                       arson       0.00      0.00      0.00       165\n",
            "                  auto-theft       0.22      0.27      0.24      9149\n",
            "                    burglary       0.14      0.08      0.10      5169\n",
            "                drug-alcohol       0.24      0.21      0.22      4879\n",
            "                     larceny       0.24      0.30      0.27     10768\n",
            "                      murder       0.00      0.00      0.00        81\n",
            "other-crimes-against-persons       0.16      0.06      0.08      4953\n",
            "             public-disorder       0.17      0.17      0.17     11223\n",
            "                     robbery       0.00      0.00      0.00      1389\n",
            "              sexual-assault       0.00      0.00      0.00       931\n",
            "    theft-from-motor-vehicle       0.20      0.21      0.21     10960\n",
            "          white-collar-crime       0.13      0.01      0.02      1419\n",
            "\n",
            "                    accuracy                           0.22     75363\n",
            "                   macro avg       0.14      0.13      0.13     75363\n",
            "                weighted avg       0.20      0.22      0.20     75363\n",
            "\n"
          ]
        },
        {
          "output_type": "stream",
          "name": "stderr",
          "text": [
            "/usr/local/lib/python3.7/dist-packages/sklearn/metrics/_classification.py:1318: UndefinedMetricWarning: Precision and F-score are ill-defined and being set to 0.0 in labels with no predicted samples. Use `zero_division` parameter to control this behavior.\n",
            "  _warn_prf(average, modifier, msg_start, len(result))\n"
          ]
        }
      ]
    },
    {
      "cell_type": "code",
      "source": [
        "plot_confusion_matrix(Dt_gini, x_test, y_test) \n",
        "plt.title('confusion matrix for gini based Decision tree') \n",
        "plt.xticks(rotation=90)\n",
        "plt.show()"
      ],
      "metadata": {
        "id": "XfqGTUgR8pUI",
        "colab": {
          "base_uri": "https://localhost:8080/",
          "height": 523
        },
        "outputId": "390537f7-e996-46a3-e792-60be66ef0bfc"
      },
      "execution_count": null,
      "outputs": [
        {
          "output_type": "stream",
          "name": "stderr",
          "text": [
            "/usr/local/lib/python3.7/dist-packages/sklearn/utils/deprecation.py:87: FutureWarning: Function plot_confusion_matrix is deprecated; Function `plot_confusion_matrix` is deprecated in 1.0 and will be removed in 1.2. Use one of the class methods: ConfusionMatrixDisplay.from_predictions or ConfusionMatrixDisplay.from_estimator.\n",
            "  warnings.warn(msg, category=FutureWarning)\n",
            "/usr/local/lib/python3.7/dist-packages/sklearn/base.py:444: UserWarning: X has feature names, but DecisionTreeClassifier was fitted without feature names\n",
            "  f\"X has feature names, but {self.__class__.__name__} was fitted without\"\n"
          ]
        },
        {
          "output_type": "display_data",
          "data": {
            "text/plain": [
              "<Figure size 432x288 with 2 Axes>"
            ],
            "image/png": "[encoded data removed]"
          },
          "metadata": {
            "needs_background": "light"
          }
        }
      ]
    },
    {
      "cell_type": "markdown",
      "source": [
        "**KNN classifier**"
      ],
      "metadata": {
        "id": "OUa8Mu3vBUUH"
      }
    },
    {
      "cell_type": "code",
      "source": [
        "from sklearn.preprocessing import StandardScaler\n",
        "scaler = StandardScaler()\n",
        "scaler.fit(x_train)\n",
        "\n",
        "X_train = scaler.transform(x_train)\n",
        "X_test = scaler.transform(x_test)"
      ],
      "metadata": {
        "id": "A1rieG9zBbyY"
      },
      "execution_count": null,
      "outputs": []
    },
    {
      "cell_type": "code",
      "source": [
        "from sklearn.neighbors import KNeighborsClassifier\n",
        "classifier_knn = KNeighborsClassifier(n_neighbors=5)\n",
        "classifier_knn.fit(x_train, y_train)\n",
        "\n",
        "y_pred_knn = classifier_knn.predict(x_test)\n",
        "print(classification_report(y_test, y_pred_knn))"
      ],
      "metadata": {
        "colab": {
          "base_uri": "https://localhost:8080/"
        },
        "id": "H6f13blkBe64",
        "outputId": "7cf521fb-d87a-4873-f79f-62680aee8dde"
      },
      "execution_count": null,
      "outputs": [
        {
          "output_type": "stream",
          "name": "stdout",
          "text": [
            "                              precision    recall  f1-score   support\n",
            "\n",
            "          aggravated-assault       0.07      0.13      0.09      3239\n",
            "            all-other-crimes       0.22      0.36      0.27     11038\n",
            "                       arson       0.01      0.01      0.01       165\n",
            "                  auto-theft       0.18      0.23      0.20      9149\n",
            "                    burglary       0.11      0.08      0.09      5169\n",
            "                drug-alcohol       0.20      0.17      0.18      4879\n",
            "                     larceny       0.22      0.22      0.22     10768\n",
            "                      murder       0.00      0.00      0.00        81\n",
            "other-crimes-against-persons       0.09      0.04      0.05      4953\n",
            "             public-disorder       0.17      0.14      0.15     11223\n",
            "                     robbery       0.01      0.00      0.00      1389\n",
            "              sexual-assault       0.01      0.00      0.00       931\n",
            "    theft-from-motor-vehicle       0.20      0.15      0.17     10960\n",
            "          white-collar-crime       0.08      0.02      0.03      1419\n",
            "\n",
            "                    accuracy                           0.18     75363\n",
            "                   macro avg       0.11      0.11      0.11     75363\n",
            "                weighted avg       0.17      0.18      0.17     75363\n",
            "\n"
          ]
        }
      ]
    },
    {
      "cell_type": "code",
      "source": [
        "plot_confusion_matrix(classifier_knn, x_test, y_test) \n",
        "plt.title('confusion matrix for KNN') \n",
        "plt.xticks(rotation=90)\n",
        "plt.show()"
      ],
      "metadata": {
        "colab": {
          "base_uri": "https://localhost:8080/",
          "height": 488
        },
        "id": "3_yBoWmXBk8J",
        "outputId": "8a09cfe0-3ad4-4f45-dc2a-1e107017fd5b"
      },
      "execution_count": null,
      "outputs": [
        {
          "output_type": "stream",
          "name": "stderr",
          "text": [
            "/usr/local/lib/python3.7/dist-packages/sklearn/utils/deprecation.py:87: FutureWarning: Function plot_confusion_matrix is deprecated; Function `plot_confusion_matrix` is deprecated in 1.0 and will be removed in 1.2. Use one of the class methods: ConfusionMatrixDisplay.from_predictions or ConfusionMatrixDisplay.from_estimator.\n",
            "  warnings.warn(msg, category=FutureWarning)\n"
          ]
        },
        {
          "output_type": "display_data",
          "data": {
            "text/plain": [
              "<Figure size 432x288 with 2 Axes>"
            ],
            "image/png": "[encoded data removed]"
          },
          "metadata": {
            "needs_background": "light"
          }
        }
      ]
    },
    {
      "cell_type": "markdown",
      "source": [
        "**Random Forest Classifier**"
      ],
      "metadata": {
        "id": "NmXh7y5yBnZV"
      }
    },
    {
      "cell_type": "code",
      "source": [
        "from sklearn.ensemble import RandomForestClassifier\n",
        "classifier_RF = RandomForestClassifier(max_depth=2, random_state=0)\n",
        "classifier_RF.fit(x_train, y_train)\n",
        "y_pred_RF = classifier_RF.predict(X_test)\n",
        "\n",
        "print(classification_report(y_test, y_pred_RF))\n",
        " "
      ],
      "metadata": {
        "colab": {
          "base_uri": "https://localhost:8080/"
        },
        "id": "XnkZUo5_BuHX",
        "outputId": "d5a2c0df-0cb3-44a6-aef0-72a4f7f167ed"
      },
      "execution_count": null,
      "outputs": [
        {
          "output_type": "stream",
          "name": "stderr",
          "text": [
            "/usr/local/lib/python3.7/dist-packages/sklearn/base.py:451: UserWarning: X does not have valid feature names, but RandomForestClassifier was fitted with feature names\n",
            "  \"X does not have valid feature names, but\"\n",
            "/usr/local/lib/python3.7/dist-packages/sklearn/metrics/_classification.py:1318: UndefinedMetricWarning: Precision and F-score are ill-defined and being set to 0.0 in labels with no predicted samples. Use `zero_division` parameter to control this behavior.\n",
            "  _warn_prf(average, modifier, msg_start, len(result))\n",
            "/usr/local/lib/python3.7/dist-packages/sklearn/metrics/_classification.py:1318: UndefinedMetricWarning: Precision and F-score are ill-defined and being set to 0.0 in labels with no predicted samples. Use `zero_division` parameter to control this behavior.\n",
            "  _warn_prf(average, modifier, msg_start, len(result))\n"
          ]
        },
        {
          "output_type": "stream",
          "name": "stdout",
          "text": [
            "                              precision    recall  f1-score   support\n",
            "\n",
            "          aggravated-assault       0.50      0.15      0.23      3239\n",
            "            all-other-crimes       0.00      0.00      0.00     11038\n",
            "                       arson       0.00      0.00      0.00       165\n",
            "                  auto-theft       0.00      0.00      0.00      9149\n",
            "                    burglary       0.00      0.00      0.00      5169\n",
            "                drug-alcohol       0.00      0.00      0.00      4879\n",
            "                     larceny       0.00      0.00      0.00     10768\n",
            "                      murder       0.00      0.00      0.00        81\n",
            "other-crimes-against-persons       0.00      0.00      0.00      4953\n",
            "             public-disorder       0.15      0.99      0.26     11223\n",
            "                     robbery       0.00      0.00      0.00      1389\n",
            "              sexual-assault       0.00      0.00      0.00       931\n",
            "    theft-from-motor-vehicle       0.00      0.00      0.00     10960\n",
            "          white-collar-crime       0.00      0.00      0.00      1419\n",
            "\n",
            "                    accuracy                           0.15     75363\n",
            "                   macro avg       0.05      0.08      0.04     75363\n",
            "                weighted avg       0.04      0.15      0.05     75363\n",
            "\n"
          ]
        },
        {
          "output_type": "stream",
          "name": "stderr",
          "text": [
            "/usr/local/lib/python3.7/dist-packages/sklearn/metrics/_classification.py:1318: UndefinedMetricWarning: Precision and F-score are ill-defined and being set to 0.0 in labels with no predicted samples. Use `zero_division` parameter to control this behavior.\n",
            "  _warn_prf(average, modifier, msg_start, len(result))\n"
          ]
        }
      ]
    },
    {
      "cell_type": "code",
      "source": [
        "plot_confusion_matrix(classifier_RF, x_test, y_test) \n",
        "plt.title('confusion matrix for Random Forest') \n",
        "plt.xticks(rotation=90)\n",
        "plt.show()"
      ],
      "metadata": {
        "colab": {
          "base_uri": "https://localhost:8080/",
          "height": 488
        },
        "id": "jyiBhvhvByM_",
        "outputId": "9c5211ab-f48c-46f2-f2da-242a74cdcb69"
      },
      "execution_count": null,
      "outputs": [
        {
          "output_type": "stream",
          "name": "stderr",
          "text": [
            "/usr/local/lib/python3.7/dist-packages/sklearn/utils/deprecation.py:87: FutureWarning: Function plot_confusion_matrix is deprecated; Function `plot_confusion_matrix` is deprecated in 1.0 and will be removed in 1.2. Use one of the class methods: ConfusionMatrixDisplay.from_predictions or ConfusionMatrixDisplay.from_estimator.\n",
            "  warnings.warn(msg, category=FutureWarning)\n"
          ]
        },
        {
          "output_type": "display_data",
          "data": {
            "text/plain": [
              "<Figure size 432x288 with 2 Axes>"
            ],
            "image/png": "[encoded data removed]"
          },
          "metadata": {
            "needs_background": "light"
          }
        }
      ]
    },
    {
      "cell_type": "markdown",
      "source": [
        "---\n",
        "\n",
        "***Apriori Algorithm***"
      ],
      "metadata": {
        "id": "eFAngvZTUmu_"
      }
    },
    {
      "cell_type": "code",
      "source": [
        "import numpy as np\n",
        "import pandas as pd\n",
        "\n",
        "df = pd.read_csv('/content/drive/MyDrive/Data_Mining_Project_Group16/crime_rem141.csv', encoding='utf_8', engine='python', index_col=0)\n",
        "df.shape"
      ],
      "metadata": {
        "colab": {
          "base_uri": "https://localhost:8080/"
        },
        "id": "7Q8KuK_QVrwH",
        "outputId": "2893ebe5-6581-49a3-ed67-b3fab625ab54"
      },
      "execution_count": null,
      "outputs": [
        {
          "output_type": "stream",
          "name": "stdout",
          "text": [
            "24\n",
            "6\n"
          ]
        }
      ]
    },
    {
      "cell_type": "code",
      "source": [
        "dateTimeSeries = pd.Series(data=df.iloc[:,5])\n",
        "\n",
        "monthList = []\n",
        "yearList = []\n",
        "hourList = []\n",
        "\n",
        "for date in dateTimeSeries:\n",
        "    splt = date.split()\n",
        "    if len(splt) > 3:\n",
        "        print(\"Somethin weird\")\n",
        "    dsplt = splt[0].split('/')    # should be [month,day,year]\n",
        "    tsplt = splt[1].split(':')      # [hour,minute,second]\n",
        "    monthList.append(int(dsplt[0]))\n",
        "    yearList.append(int(dsplt[2]) - 2017)  # normalize to 0,1,2,3,4,5 instead of full year\n",
        "    if splt[2] == 'AM':\n",
        "        hourList.append(int(tsplt[0]))\n",
        "    else:\n",
        "        hourList.append(int(tsplt[0]) + 12)\n",
        "subset = df.iloc[:,[3,4,13,14,16]]#,17,18]]      # [['incident_id', 'OFFENSE_TYPE_ID', 'OFFENSE_CATEGORY_ID', 'DISTRICT_ID', 'PRECINCT_ID', 'IS_CRIME', 'IS_TRAFFIC', 'VICTIM_COUNT']]\n",
        "subset = subset.assign(Month = pd.Series(data=monthList).values)\n",
        "subset = subset.assign(Year = pd.Series(data=yearList).values)\n",
        "subset = subset.assign(Hour = pd.Series(data=hourList).values)\n",
        "subset.head()"
      ],
      "metadata": {
        "id": "-HFHknlNfQww"
      },
      "execution_count": null,
      "outputs": []
    },
    {
      "cell_type": "code",
      "source": [
        "subset.replace([np.inf, -np.inf], np.nan, inplace=True)\n",
        "subset.dropna(subset=[\"PRECINCT_ID\", \"DISTRICT_ID\"], how=\"all\", inplace=True)\n",
        "subset.shape"
      ],
      "metadata": {
        "id": "lREQ8EZEfT1B"
      },
      "execution_count": null,
      "outputs": []
    },
    {
      "cell_type": "code",
      "source": [
        "singleListNames = np.concatenate((subset['OFFENSE_TYPE_ID'].unique() \n",
        "    , subset['OFFENSE_CATEGORY_ID'].unique() \n",
        "    , np.array([str(x) for x in subset['DISTRICT_ID'].unique()]) \n",
        "    , [str(x) for x in subset['PRECINCT_ID'].unique()] \n",
        "    , [str(x) for x in subset['Month'].unique()]\n",
        "    , [str(x) for x in subset['Year'].unique()]\n",
        "    , [str(x) for x in subset['Hour'].unique()]))\n",
        "\n",
        "sert = pd.Series([int(0) for _ in range(subset.shape[0])])\n",
        "df_apriori = pd.concat([sert for _ in range(len(singleListNames))], axis=1)\n",
        "df_apriori.columns = singleListNames\n",
        "# print(\"Shape of dataframe:\")\n",
        "# print(df_apriori.shape)\n",
        "# print()\n",
        "# print(\"0%\")\n",
        "originalCols = ['OFFENSE_TYPE_ID','OFFENSE_CATEGORY_ID','DISTRICT_ID','PRECINCT_ID','Month','Year','Hour']\n",
        "counter = 0\n",
        "for index, row in subset.iterrows():\n",
        "    for co in originalCols:\n",
        "        df_apriori.at[counter, str(row[co])] = int(1)\n",
        "    # if counter%50000 == 0:\n",
        "    #     print(counter)\n",
        "    counter += 1\n",
        "# print(\"Done\")"
      ],
      "metadata": {
        "id": "s_t2z6NtfXQA"
      },
      "execution_count": null,
      "outputs": []
    },
    {
      "cell_type": "code",
      "source": [
        "## save new database as .csv\n",
        "df_apriori.to_csv('apriori-data.csv')\n",
        "## describe data\n",
        "df_apriori.describe()"
      ],
      "metadata": {
        "id": "F8qWue7pfuJx"
      },
      "execution_count": null,
      "outputs": []
    },
    {
      "cell_type": "code",
      "source": [
        "## Running Apriori now\n",
        "\n",
        "!pip install mlxtend     # download apriori package\n",
        "import numpy as np\n",
        "import pandas as pd\n",
        "from mlxtend.frequent_patterns import apriori, association_rules   # import apriori method\n",
        "\n",
        "dfa = pd.read_csv('apriori-data.csv', encoding='utf_8', engine='python', index_col=0)   # read in apriori itemset data\n",
        "\n",
        "dfa.replace([np.nan, -np.nan], False, inplace=True)    # formatting needs everything to be boolean\n",
        "dfa.replace(0, False, inplace=True)\n",
        "dfa.replace(1, True, inplace=True)\n",
        "dfa.head()"
      ],
      "metadata": {
        "id": "q0w8FOV2f3Tt"
      },
      "execution_count": null,
      "outputs": []
    },
    {
      "cell_type": "code",
      "source": [
        "frq_items = apriori(dfa, min_support = 0.001, use_colnames = True)     ## run apriori method\n",
        "\n",
        "rules = association_rules(frq_items, metric = 'lift', min_threshold = 1)\n",
        "rules = rules.sort_values(['confidence', 'lift'], ascending = [False, False])      ## extract association rules\n",
        "print(rules.head())     # print rules"
      ],
      "metadata": {
        "id": "IWyxae-ef5vA"
      },
      "execution_count": null,
      "outputs": []
    },
    {
      "cell_type": "code",
      "source": [
        "print(frq_items)"
      ],
      "metadata": {
        "id": "S1J14JRYf624"
      },
      "execution_count": null,
      "outputs": []
    },
    {
      "cell_type": "markdown",
      "source": [
        "---\n",
        "\n",
        "# Clustering"
      ],
      "metadata": {
        "id": "HdB5WqmWE2pk"
      }
    },
    {
      "cell_type": "markdown",
      "source": [
        "***K Means on Time***"
      ],
      "metadata": {
        "id": "czkiiLm1BINU"
      }
    },
    {
      "cell_type": "code",
      "source": [
        "## 1D K Means\n",
        "\n",
        "import numpy as np\n",
        "import pandas as pd\n",
        "import sklearn\n",
        "import matplotlib.pyplot as plt\n",
        "\n",
        "df = pd.read_csv('crime_rem141.csv', encoding='utf_8', engine='python', index_col=0)\n",
        "df.shape\n",
        "\n",
        "dateTimeSeries = pd.Series(data=df.iloc[:,5])\n",
        "\n",
        "monthList = []\n",
        "yearList = []\n",
        "hourList = []\n",
        "\n",
        "for date in dateTimeSeries:\n",
        "    splt = date.split()\n",
        "    if len(splt) > 3:\n",
        "        print(\"Somethin weird\")\n",
        "    dsplt = splt[0].split('/')    # should be [month,day,year]\n",
        "    tsplt = splt[1].split(':')      # [hour,minute,second]\n",
        "    monthList.append(int(dsplt[0]))\n",
        "    yearList.append(int(dsplt[2]) - 2017)  # normalize to 0,1,2,3,4,5 instead of full year\n",
        "    if splt[2] == 'AM':\n",
        "        hourList.append(int(tsplt[0]))\n",
        "    else:\n",
        "        hourList.append(int(tsplt[0]) + 12)\n",
        "subset = df.iloc[:,[3,4,13,14,16]]#,17,18]]      # [['incident_id', 'OFFENSE_TYPE_ID', 'OFFENSE_CATEGORY_ID', 'DISTRICT_ID', 'PRECINCT_ID', 'IS_CRIME', 'IS_TRAFFIC', 'VICTIM_COUNT']]\n",
        "subset = subset.assign(Month = pd.Series(data=monthList).values)\n",
        "subset = subset.assign(Year = pd.Series(data=yearList).values)\n",
        "subset = subset.assign(Hour = pd.Series(data=hourList).values)\n",
        "\n",
        "subset.replace([np.inf, -np.inf], np.nan, inplace=True)\n",
        "subset.dropna(subset=[\"Month\", \"Year\", \"Hour\"], how=\"all\", inplace=True)\n",
        "subset.shape\n",
        "\n",
        "subset.head()"
      ],
      "metadata": {
        "id": "SHDAUYoYg18t"
      },
      "execution_count": null,
      "outputs": []
    },
    {
      "cell_type": "code",
      "source": [
        "k = 3\n",
        "col = 'Hour'   ## change to attribute of focus: 'Hour', 'Month', 'Year'\n",
        "\n",
        "kmeans = KMeans(n_clusters=k)\n",
        "subset[str('label_'+str(k))] = kmeans.fit_predict(subset[[col]])\n",
        "ax = subset[subset[str('label_'+str(k))]==0].plot.scatter(x=col, \n",
        "                                                      y=str('label_'+str(k)), \n",
        "                                                      color='white', \n",
        "                                                      edgecolor='black')\n",
        "subset[subset[str('label_'+str(k))]==1].plot.scatter(x=col, \n",
        "                                                 y=str('label_'+str(k)), \n",
        "                                                 s=50, color='white', \n",
        "                                                 ax=ax, edgecolor='red')\n",
        "subset[subset[str('label_'+str(k))]==2].plot.scatter(x=col, \n",
        "                                                 y=str('label_'+str(k)), \n",
        "                                                 s=50, color='white', \n",
        "                                                 ax=ax, edgecolor='blue')\n",
        "# subset[subset[str('label_'+str(k))]==3].plot.scatter(x=col, \n",
        "#                                                  y=str('label_'+str(k)), \n",
        "#                                                  s=50, color='white', \n",
        "#                                                  ax=ax, edgecolor='orange')\n",
        "# subset[subset[str('label_'+str(k))]==4].plot.scatter(x=col, \n",
        "#                                                  y=str('label_'+str(k)), \n",
        "#                                                  s=50, color='white', \n",
        "#                                                  ax=ax, edgecolor='purple')\n",
        "# subset[subset[str('label_'+str(k))]==5].plot.scatter(x=col, \n",
        "#                                                  y=str('label_'+str(k)), \n",
        "#                                                  s=50, color='white', \n",
        "#                                                  ax=ax, edgecolor='yellow')\n",
        "plt.scatter(kmeans.cluster_centers_.ravel(), \n",
        "            [0.5]*len(kmeans.cluster_centers_), \n",
        "            s=100, color='green', marker='*')"
      ],
      "metadata": {
        "id": "AiFJf-N9g4eZ"
      },
      "execution_count": null,
      "outputs": []
    },
    {
      "cell_type": "markdown",
      "source": [
        "***K Means on location***"
      ],
      "metadata": {
        "id": "WLyCwVeqhFBq"
      }
    },
    {
      "cell_type": "code",
      "source": [
        "# import dependencies\n",
        "import pandas as pd\n",
        "import numpy as np\n",
        "import matplotlib.pyplot as plt\n",
        "from sklearn.cluster import KMeans\n",
        "import seaborn as sns; sns.set()\n",
        "import csv\n",
        "\n",
        "df = pd.read_csv('/content/drive/MyDrive/Data_Mining_Project_Group16/crime_rem141.csv', encoding='utf_8', engine='python', index_col=0)\n",
        "cluster_sub = df[['offense_id','GEO_LON','GEO_LAT']]\n",
        "cluster_sub.dropna(subset=[\"GEO_LON\", \"GEO_LAT\"], how=\"all\", inplace=True)\n",
        "cluster_sub.head()"
      ],
      "metadata": {
        "id": "oIZHTt3khQoi"
      },
      "execution_count": null,
      "outputs": []
    },
    {
      "cell_type": "code",
      "source": [
        "## calculate score for a range of k values\n",
        "kDifClusters = range(1,10)\n",
        "kmeans = [KMeans(n_clusters=i) for i in kDifClusters]\n",
        "yax = cluster_sub[['GEO_LON']]\n",
        "xax = cluster_sub[['GEO_LAT']]\n",
        "score = [kmeans[i].fit(yax).score(yax) for i in range(len(kmeans))]"
      ],
      "metadata": {
        "id": "RM-draZEhVXO"
      },
      "execution_count": null,
      "outputs": []
    },
    {
      "cell_type": "code",
      "source": [
        "## plot k scores\n",
        "plt.plot(kDifClusters, score)\n",
        "plt.xlabel('Number of Clusters')\n",
        "plt.ylabel('Score')\n",
        "plt.title('Elbow Curve')\n",
        "plt.show()"
      ],
      "metadata": {
        "id": "joFb_LPVhXgb"
      },
      "execution_count": null,
      "outputs": []
    },
    {
      "cell_type": "code",
      "source": [
        "## run k means on 3 clusters\n",
        "kmeans = KMeans(n_clusters = 3, init = 'k-means++')\n",
        "kmeans.fit(cluster_sub[cluster_sub.columns[1:3]])"
      ],
      "metadata": {
        "id": "cMQRlEsphZRL"
      },
      "execution_count": null,
      "outputs": []
    },
    {
      "cell_type": "code",
      "source": [
        "## calculate kmeans labels and centers\n",
        "cluster_sub['cluster_label'] = kmeans.fit_predict(cluster_sub[cluster_sub.columns[1:3]])\n",
        "\n",
        "centers = kmeans.cluster_centers_\n",
        "\n",
        "labels = kmeans.predict(cluster_sub[cluster_sub.columns[1:3]])\n",
        "\n",
        "cluster_sub.head(10)"
      ],
      "metadata": {
        "id": "YB4pGfE0hcOv"
      },
      "execution_count": null,
      "outputs": []
    },
    {
      "cell_type": "code",
      "source": [
        "## plot clusters\n",
        "cluster_sub.plot.scatter(x = 'Longitude', y = 'Latitude', c=labels, s=50, cmap='viridis')\n",
        "plt.scatter(centers[:,0], centers[:,1], c='black', s=200, alpha=0.5)"
      ],
      "metadata": {
        "id": "FiS0IxeRhc8C"
      },
      "execution_count": null,
      "outputs": []
    },
    {
      "cell_type": "code",
      "source": [
        "## add labels back to original database\n",
        "cluster_sub = cluster_sub[['offense_id','cluster_label']]\n",
        "clustered_data = df.merge(cluster_sub, left_on='offense_id', right_on='offense_id')\n",
        "clustered_data.head()"
      ],
      "metadata": {
        "id": "Umv2XCHbhfXy"
      },
      "execution_count": null,
      "outputs": []
    },
    {
      "cell_type": "code",
      "source": [
        "## save data as csv\n",
        "clustered_data.to_csv('kmeans_clustered_data.csv', header=True)"
      ],
      "metadata": {
        "id": "kRmzXlmg7upj"
      },
      "execution_count": null,
      "outputs": []
    },
    {
      "cell_type": "markdown",
      "source": [
        "***GMM***"
      ],
      "metadata": {
        "id": "jM_oJbLGiLRi"
      }
    },
    {
      "cell_type": "code",
      "source": [
        "import pandas as pd          # data manipulation\n",
        "import numpy as np           #  ^\n",
        "from sklearn.mixture import GaussianMixture  # GMM clustering\n",
        "from sklearn import metrics                  # Silhouette score\n",
        "import matplotlib.pyplot as plt       # data visualization\n",
        "import plotly.express as px           #  ^\n",
        "import plotly.graph_objects as go     #  ^\n",
        "\n",
        "## read in data\n",
        "dfg = pd.read_csv('/content/drive/MyDrive/Data_Mining_Project_Group16/crime_rem141.csv', encoding='utf_8', engine='python', index_col=0)\n",
        "cluster_sub = dfg[['offense_id','GEO_LON','GEO_LAT']]\n",
        "cluster_sub.dropna(subset=[\"GEO_LON\", \"GEO_LAT\"], how=\"all\", inplace=True)      # clean coordinate columns of nans\n",
        "cluster_sub.head()"
      ],
      "metadata": {
        "id": "QLQVjVYYiVpL"
      },
      "execution_count": null,
      "outputs": []
    },
    {
      "cell_type": "code",
      "source": [
        "## plot geo coords and zoom into denver area\n",
        "fig = go.Figure(data=go.Scattergeo(\n",
        "    lat=cluster_sub['GEO_LAT'],\n",
        "    lon=cluster_sub['GEO_LON'],\n",
        "    mode = 'markers',\n",
        "    marker_color = 'black',\n",
        "))\n",
        "\n",
        "fig.update_layout(\n",
        "    width=980,\n",
        "    height=720,\n",
        "    margin={\"r\":0,\"t\":10,\"l\":0,\"b\":10},\n",
        "    geo = dict(\n",
        "        scope='world',\n",
        "        projection_type='miller',\n",
        "        landcolor = 'rgb(250,250,250)',\n",
        "        center=dict(lat=39.742043,lon=-104.991531),\n",
        "        projection_scale=500),\n",
        ")\n",
        "fig.show()"
      ],
      "metadata": {
        "id": "pyD79uOdib_d"
      },
      "execution_count": null,
      "outputs": []
    },
    {
      "cell_type": "code",
      "source": [
        "score = []   # save silhouette score here\n",
        "\n",
        "ks = range(2,11)    # range of k values to try\n",
        "\n",
        "x = df[['GEO_LAT','GEO_LON']]   # data subset\n",
        "\n",
        "for cl in ks:\n",
        "    model = GaussianMixture(n_components=cl, n_init=20, init_params='kmeans')\n",
        "    labels = model.fit_predict(x)\n",
        "    score.append(metrics.silhouette_score(x, labels, metric='euclidean'))\n",
        "\n",
        "plt.figure(figsize=(16,8), dpi=300)     # plot the scores\n",
        "plt.plot(ks,score, 'bo-', color='black')\n",
        "plt.xlable('k')\n",
        "plt.ylabel('Silhouette Score')"
      ],
      "metadata": {
        "id": "oZzn1vv6ieUR"
      },
      "execution_count": null,
      "outputs": []
    },
    {
      "cell_type": "code",
      "source": [
        "## create model using 6 clusters\n",
        "model6 = GaussianMixture(n_components=6,\n",
        "                        covariance_type='full',\n",
        "                        max_iter=100,\n",
        "                        n_init=1,\n",
        "                        init_params='kmeans',\n",
        "                        verbose=0,\n",
        "                        random_state=1\n",
        "                        )\n",
        "clust6 = model6.fit(x)\n",
        "labels6 = model6.predict(x)\n",
        "\n",
        "smpl=model6.sample(n_samples=10000)     # random sample of points using the model6 clusters\n",
        "\n",
        "print(' 6 clusters ')\n",
        "print('Means: ' , clust6.means_)        # print some of their information\n",
        "print('Converged: ', clust6.converged_)\n",
        "print('# of Iterations: ', clust6.n_iter_)"
      ],
      "metadata": {
        "id": "AEQ1wLP8igTG"
      },
      "execution_count": null,
      "outputs": []
    },
    {
      "cell_type": "code",
      "source": [
        "# add the labels to the data set\n",
        "dfg['Clust6']=labels6\n",
        "\n",
        "# Create a plot\n",
        "fig = go.Figure(data=go.Scattergeo(\n",
        "        lat=dfg['GEO_LAT'],\n",
        "        lon=dfg['GEO_LON'],\n",
        "        hovertext=dfg['Clust6'], \n",
        "        mode = 'markers',\n",
        "        marker=dict(colorscale=['#ae34eb', 'red', 'blue', '#34eb34']),  #color\n",
        "        marker_color = dfg['Clust6'],\n",
        "        ))\n",
        "# zoom in on denver\n",
        "fig.update_layout(\n",
        "    showlegend=False,\n",
        "    width=980,\n",
        "    height=720,\n",
        "    margin={\"r\":0,\"t\":30,\"l\":0,\"b\":10},\n",
        "    geo = dict(\n",
        "        scope='world',\n",
        "        projection_type='miller',\n",
        "        landcolor = \"rgb(250, 250, 250)\",\n",
        "        center=dict(lat=39.742043,lon=-104.991531), # focus point\n",
        "        projection_scale=500 # zoom in on\n",
        "    ),\n",
        ")\n",
        "fig.show()"
      ],
      "metadata": {
        "id": "A-AOcq43iiWT"
      },
      "execution_count": null,
      "outputs": []
    },
    {
      "cell_type": "code",
      "source": [
        "# make another plot for the random sample of points\n",
        "fig = go.Figure(data=go.Scattergeo(\n",
        "        lat=smpl[0][:,0],\n",
        "        lon=smpl[0][:,1],\n",
        "        mode = 'markers',\n",
        "        marker=dict(colorscale=['#ae34eb', 'red', 'blue', '#34eb34']),\n",
        "        marker_color = smpl[1],\n",
        "        marker_size=3\n",
        "        ))\n",
        "\n",
        "fig.update_layout(\n",
        "        showlegend=False,\n",
        "        width=980,\n",
        "        height=720,\n",
        "        margin={\"r\":0,\"t\":30,\"l\":0,\"b\":10},\n",
        "        geo = dict(\n",
        "            scope='world',\n",
        "            projection_type='miller',\n",
        "            landcolor = \"rgb(250, 250, 250)\",\n",
        "            center=dict(lat=39.742043,lon=-104.991531), # focus point\n",
        "            projection_scale=500 # zoom in on\n",
        "        ),\n",
        "    )\n",
        "fig.show()"
      ],
      "metadata": {
        "id": "FSXcemZRiojK"
      },
      "execution_count": null,
      "outputs": []
    }
  ]
}